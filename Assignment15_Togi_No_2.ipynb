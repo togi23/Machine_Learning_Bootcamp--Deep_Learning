{
 "cells": [
  {
   "cell_type": "code",
   "execution_count": 1,
   "metadata": {
    "colab": {
     "base_uri": "https://localhost:8080/",
     "height": 35
    },
    "id": "H1LKfoeN6keu",
    "outputId": "30594e60-4f4b-4e0f-be3a-a3e79e9822e2"
   },
   "outputs": [
    {
     "name": "stdout",
     "output_type": "stream",
     "text": [
      "replace /content/test/cat/14392.png? [y]es, [n]o, [A]ll, [N]one, [r]ename: A\n"
     ]
    }
   ],
   "source": [
    "zip_path = '/content/drive/My\\ Drive/Deep_Learning/cats-dogs.zip'\n",
    "!cp {zip_path} /content/\n",
    "!cd /content/\n",
    "!unzip -q /content/cats-dogs.zip -d /content\n",
    "!rm /content/cats-dogs.zip"
   ]
  },
  {
   "cell_type": "code",
   "execution_count": 2,
   "metadata": {
    "id": "mvyQAUTH_g8g"
   },
   "outputs": [],
   "source": [
    "import os\n",
    "import numpy as np\n",
    "import matplotlib.pyplot as plt"
   ]
  },
  {
   "cell_type": "code",
   "execution_count": 3,
   "metadata": {
    "id": "DmTYLaVq_krq"
   },
   "outputs": [],
   "source": [
    "def plot_loss(history):\n",
    "  plt.plot(history.history['loss'], label='loss')\n",
    "  plt.plot(history.history['val_loss'], label='val_loss')\n",
    "  plt.xlabel('Epoch')\n",
    "  plt.ylabel('Loss')\n",
    "  plt.legend()\n",
    "  plt.grid(True)"
   ]
  },
  {
   "cell_type": "markdown",
   "metadata": {
    "id": "tyWY4pXM_uXv"
   },
   "source": [
    "# Baseline CNN Model with Added Layer"
   ]
  },
  {
   "cell_type": "code",
   "execution_count": 4,
   "metadata": {
    "id": "c3e7QIDz_0EN"
   },
   "outputs": [],
   "source": [
    "#Libraries\n",
    "from tensorflow.keras.models import Sequential\n",
    "from tensorflow.keras.layers import Conv2D, MaxPooling2D, Dense, Flatten\n",
    "from tensorflow.keras.optimizers import Adam\n",
    "from tensorflow.keras.preprocessing.image import ImageDataGenerator"
   ]
  },
  {
   "cell_type": "code",
   "execution_count": 5,
   "metadata": {
    "colab": {
     "base_uri": "https://localhost:8080/",
     "height": 495
    },
    "id": "BzVogc9v_270",
    "outputId": "8a61bbeb-4eaf-4f62-d1ec-a506766193b4"
   },
   "outputs": [
    {
     "name": "stdout",
     "output_type": "stream",
     "text": [
      "Model: \"sequential\"\n",
      "_________________________________________________________________\n",
      "Layer (type)                 Output Shape              Param #   \n",
      "=================================================================\n",
      "conv2d (Conv2D)              (None, 200, 200, 32)      896       \n",
      "_________________________________________________________________\n",
      "max_pooling2d (MaxPooling2D) (None, 100, 100, 32)      0         \n",
      "_________________________________________________________________\n",
      "conv2d_1 (Conv2D)            (None, 100, 100, 64)      18496     \n",
      "_________________________________________________________________\n",
      "max_pooling2d_1 (MaxPooling2 (None, 50, 50, 64)        0         \n",
      "_________________________________________________________________\n",
      "conv2d_2 (Conv2D)            (None, 50, 50, 128)       73856     \n",
      "_________________________________________________________________\n",
      "max_pooling2d_2 (MaxPooling2 (None, 25, 25, 128)       0         \n",
      "_________________________________________________________________\n",
      "flatten (Flatten)            (None, 80000)             0         \n",
      "_________________________________________________________________\n",
      "dense (Dense)                (None, 128)               10240128  \n",
      "_________________________________________________________________\n",
      "dense_1 (Dense)              (None, 1)                 129       \n",
      "=================================================================\n",
      "Total params: 10,333,505\n",
      "Trainable params: 10,333,505\n",
      "Non-trainable params: 0\n",
      "_________________________________________________________________\n"
     ]
    }
   ],
   "source": [
    "deeper_model = Sequential()\n",
    "\n",
    "# Convolution layer yang lebih dalam\n",
    "deeper_model.add(Conv2D(32, (3, 3), activation='relu', kernel_initializer='he_uniform', padding='same', input_shape=(200, 200, 3)))\n",
    "deeper_model.add(MaxPooling2D((2, 2)))\n",
    "deeper_model.add(Conv2D(64, (3, 3), activation='relu', kernel_initializer='he_uniform', padding='same', input_shape=(200, 200, 3)))\n",
    "deeper_model.add(MaxPooling2D((2, 2)))\n",
    "deeper_model.add(Conv2D(128, (3, 3), activation='relu', kernel_initializer='he_uniform', padding='same', input_shape=(200, 200, 3)))\n",
    "deeper_model.add(MaxPooling2D((2, 2)))\n",
    "\n",
    "deeper_model.add(Flatten())\n",
    "\n",
    "deeper_model.add(Dense(128, activation='relu', kernel_initializer='he_uniform'))\n",
    "deeper_model.add(Dense(1, activation='sigmoid'))\n",
    "\n",
    "opt = Adam(lr=0.001)\n",
    "\n",
    "deeper_model.compile(optimizer=opt, loss='binary_crossentropy', metrics=['accuracy'])\n",
    "\n",
    "deeper_model.summary()"
   ]
  },
  {
   "cell_type": "code",
   "execution_count": 6,
   "metadata": {
    "id": "hBnzv5w1I58V"
   },
   "outputs": [],
   "source": [
    "train_datagen = ImageDataGenerator(rescale=1.0/255.0, width_shift_range=0.1, height_shift_range=0.1, horizontal_flip=True)\n",
    "test_datagen = ImageDataGenerator(rescale=1.0/255.0)"
   ]
  },
  {
   "cell_type": "code",
   "execution_count": 7,
   "metadata": {
    "colab": {
     "base_uri": "https://localhost:8080/",
     "height": 54
    },
    "id": "jJ9z3JpKAlY4",
    "outputId": "692b72ff-9da0-4d9a-f6d7-8c1076794cc4"
   },
   "outputs": [
    {
     "name": "stdout",
     "output_type": "stream",
     "text": [
      "Found 12749 images belonging to 2 classes.\n",
      "Found 2252 images belonging to 2 classes.\n"
     ]
    }
   ],
   "source": [
    "dataset_dir = '/content/'\n",
    "\n",
    "datagen = ImageDataGenerator(rescale=1.0/255.0)\n",
    "\n",
    "train_augmented_iterator = train_datagen.flow_from_directory(os.path.join(dataset_dir, 'train'), class_mode='binary', batch_size=128, target_size=(200, 200))\n",
    "test_augmented_iterator = test_datagen.flow_from_directory(os.path.join(dataset_dir, 'test'), class_mode='binary', batch_size=128, target_size=(200, 200))"
   ]
  },
  {
   "cell_type": "code",
   "execution_count": 8,
   "metadata": {
    "colab": {
     "base_uri": "https://localhost:8080/",
     "height": 1000
    },
    "id": "YNuFAq3uBGSL",
    "outputId": "de770d30-375c-4d22-bf55-6db98f93e90a"
   },
   "outputs": [
    {
     "name": "stdout",
     "output_type": "stream",
     "text": [
      "WARNING:tensorflow:From <ipython-input-8-4bcaff880f29>:1: Model.fit_generator (from tensorflow.python.keras.engine.training) is deprecated and will be removed in a future version.\n",
      "Instructions for updating:\n",
      "Please use Model.fit, which supports generators.\n",
      "Epoch 1/75\n",
      "100/100 [==============================] - 127s 1s/step - loss: 1.2324 - accuracy: 0.6046 - val_loss: 0.6099 - val_accuracy: 0.6621\n",
      "Epoch 2/75\n",
      "100/100 [==============================] - 128s 1s/step - loss: 0.5945 - accuracy: 0.6900 - val_loss: 0.5664 - val_accuracy: 0.6940\n",
      "Epoch 3/75\n",
      "100/100 [==============================] - 127s 1s/step - loss: 0.5586 - accuracy: 0.7159 - val_loss: 0.5247 - val_accuracy: 0.7313\n",
      "Epoch 4/75\n",
      "100/100 [==============================] - 128s 1s/step - loss: 0.5347 - accuracy: 0.7321 - val_loss: 0.5068 - val_accuracy: 0.7531\n",
      "Epoch 5/75\n",
      "100/100 [==============================] - 128s 1s/step - loss: 0.5125 - accuracy: 0.7430 - val_loss: 0.4881 - val_accuracy: 0.7536\n",
      "Epoch 6/75\n",
      "100/100 [==============================] - 127s 1s/step - loss: 0.4903 - accuracy: 0.7649 - val_loss: 0.4706 - val_accuracy: 0.7731\n",
      "Epoch 7/75\n",
      "100/100 [==============================] - 127s 1s/step - loss: 0.4745 - accuracy: 0.7722 - val_loss: 0.4363 - val_accuracy: 0.7922\n",
      "Epoch 8/75\n",
      "100/100 [==============================] - 127s 1s/step - loss: 0.4646 - accuracy: 0.7776 - val_loss: 0.4432 - val_accuracy: 0.7886\n",
      "Epoch 9/75\n",
      "100/100 [==============================] - 127s 1s/step - loss: 0.4365 - accuracy: 0.7960 - val_loss: 0.4252 - val_accuracy: 0.8020\n",
      "Epoch 10/75\n",
      "100/100 [==============================] - 127s 1s/step - loss: 0.4225 - accuracy: 0.8114 - val_loss: 0.4207 - val_accuracy: 0.8064\n",
      "Epoch 11/75\n",
      "100/100 [==============================] - 127s 1s/step - loss: 0.4169 - accuracy: 0.8093 - val_loss: 0.4209 - val_accuracy: 0.8126\n",
      "Epoch 12/75\n",
      "100/100 [==============================] - 127s 1s/step - loss: 0.4040 - accuracy: 0.8168 - val_loss: 0.4022 - val_accuracy: 0.8153\n",
      "Epoch 13/75\n",
      "100/100 [==============================] - 127s 1s/step - loss: 0.3909 - accuracy: 0.8240 - val_loss: 0.3830 - val_accuracy: 0.8321\n",
      "Epoch 14/75\n",
      "100/100 [==============================] - 131s 1s/step - loss: 0.3887 - accuracy: 0.8277 - val_loss: 0.3799 - val_accuracy: 0.8410\n",
      "Epoch 15/75\n",
      "100/100 [==============================] - 129s 1s/step - loss: 0.3754 - accuracy: 0.8327 - val_loss: 0.3727 - val_accuracy: 0.8357\n",
      "Epoch 16/75\n",
      "100/100 [==============================] - 129s 1s/step - loss: 0.3591 - accuracy: 0.8393 - val_loss: 0.3454 - val_accuracy: 0.8557\n",
      "Epoch 17/75\n",
      "100/100 [==============================] - 130s 1s/step - loss: 0.3513 - accuracy: 0.8444 - val_loss: 0.3558 - val_accuracy: 0.8597\n",
      "Epoch 18/75\n",
      "100/100 [==============================] - 130s 1s/step - loss: 0.3328 - accuracy: 0.8521 - val_loss: 0.3574 - val_accuracy: 0.8517\n",
      "Epoch 19/75\n",
      "100/100 [==============================] - 130s 1s/step - loss: 0.3314 - accuracy: 0.8590 - val_loss: 0.3358 - val_accuracy: 0.8646\n",
      "Epoch 20/75\n",
      "100/100 [==============================] - 130s 1s/step - loss: 0.3189 - accuracy: 0.8612 - val_loss: 0.3738 - val_accuracy: 0.8530\n",
      "Epoch 21/75\n",
      "100/100 [==============================] - 132s 1s/step - loss: 0.3174 - accuracy: 0.8617 - val_loss: 0.3085 - val_accuracy: 0.8677\n",
      "Epoch 22/75\n",
      "100/100 [==============================] - 132s 1s/step - loss: 0.3084 - accuracy: 0.8663 - val_loss: 0.3100 - val_accuracy: 0.8757\n",
      "Epoch 23/75\n",
      "100/100 [==============================] - 130s 1s/step - loss: 0.2968 - accuracy: 0.8706 - val_loss: 0.3301 - val_accuracy: 0.8668\n",
      "Epoch 24/75\n",
      "100/100 [==============================] - 130s 1s/step - loss: 0.2964 - accuracy: 0.8726 - val_loss: 0.3159 - val_accuracy: 0.8699\n",
      "Epoch 25/75\n",
      "100/100 [==============================] - 130s 1s/step - loss: 0.2844 - accuracy: 0.8789 - val_loss: 0.2909 - val_accuracy: 0.8788\n",
      "Epoch 26/75\n",
      "100/100 [==============================] - 130s 1s/step - loss: 0.2787 - accuracy: 0.8835 - val_loss: 0.3044 - val_accuracy: 0.8739\n",
      "Epoch 27/75\n",
      "100/100 [==============================] - 132s 1s/step - loss: 0.2668 - accuracy: 0.8881 - val_loss: 0.3200 - val_accuracy: 0.8730\n",
      "Epoch 28/75\n",
      "100/100 [==============================] - 130s 1s/step - loss: 0.2623 - accuracy: 0.8885 - val_loss: 0.3106 - val_accuracy: 0.8770\n",
      "Epoch 29/75\n",
      "100/100 [==============================] - 132s 1s/step - loss: 0.2575 - accuracy: 0.8907 - val_loss: 0.2896 - val_accuracy: 0.8797\n",
      "Epoch 30/75\n",
      "100/100 [==============================] - 133s 1s/step - loss: 0.2492 - accuracy: 0.8969 - val_loss: 0.2667 - val_accuracy: 0.8854\n",
      "Epoch 31/75\n",
      "100/100 [==============================] - 131s 1s/step - loss: 0.2438 - accuracy: 0.8967 - val_loss: 0.2683 - val_accuracy: 0.8885\n",
      "Epoch 32/75\n",
      "100/100 [==============================] - 131s 1s/step - loss: 0.2414 - accuracy: 0.8966 - val_loss: 0.2701 - val_accuracy: 0.8925\n",
      "Epoch 33/75\n",
      "100/100 [==============================] - 131s 1s/step - loss: 0.2331 - accuracy: 0.9029 - val_loss: 0.2950 - val_accuracy: 0.8761\n",
      "Epoch 34/75\n",
      "100/100 [==============================] - 130s 1s/step - loss: 0.2328 - accuracy: 0.9023 - val_loss: 0.2798 - val_accuracy: 0.8921\n",
      "Epoch 35/75\n",
      "100/100 [==============================] - 129s 1s/step - loss: 0.2220 - accuracy: 0.9118 - val_loss: 0.2691 - val_accuracy: 0.8899\n",
      "Epoch 36/75\n",
      "100/100 [==============================] - 128s 1s/step - loss: 0.2100 - accuracy: 0.9132 - val_loss: 0.2546 - val_accuracy: 0.8996\n",
      "Epoch 37/75\n",
      "100/100 [==============================] - 127s 1s/step - loss: 0.2087 - accuracy: 0.9159 - val_loss: 0.2647 - val_accuracy: 0.8885\n",
      "Epoch 38/75\n",
      "100/100 [==============================] - 126s 1s/step - loss: 0.2154 - accuracy: 0.9136 - val_loss: 0.2538 - val_accuracy: 0.8970\n",
      "Epoch 39/75\n",
      "100/100 [==============================] - 127s 1s/step - loss: 0.2013 - accuracy: 0.9191 - val_loss: 0.2382 - val_accuracy: 0.9059\n",
      "Epoch 40/75\n",
      "100/100 [==============================] - 127s 1s/step - loss: 0.2032 - accuracy: 0.9164 - val_loss: 0.2532 - val_accuracy: 0.8912\n",
      "Epoch 41/75\n",
      "100/100 [==============================] - 127s 1s/step - loss: 0.1861 - accuracy: 0.9252 - val_loss: 0.2826 - val_accuracy: 0.8912\n",
      "Epoch 42/75\n",
      "100/100 [==============================] - 127s 1s/step - loss: 0.2018 - accuracy: 0.9137 - val_loss: 0.2575 - val_accuracy: 0.8974\n",
      "Epoch 43/75\n",
      "100/100 [==============================] - 127s 1s/step - loss: 0.1778 - accuracy: 0.9299 - val_loss: 0.2455 - val_accuracy: 0.8992\n",
      "Epoch 44/75\n",
      "100/100 [==============================] - 127s 1s/step - loss: 0.1741 - accuracy: 0.9303 - val_loss: 0.2583 - val_accuracy: 0.8992\n",
      "Epoch 45/75\n",
      "100/100 [==============================] - 126s 1s/step - loss: 0.1725 - accuracy: 0.9301 - val_loss: 0.2814 - val_accuracy: 0.8943\n",
      "Epoch 46/75\n",
      "100/100 [==============================] - 127s 1s/step - loss: 0.1842 - accuracy: 0.9251 - val_loss: 0.2700 - val_accuracy: 0.8934\n",
      "Epoch 47/75\n",
      "100/100 [==============================] - 127s 1s/step - loss: 0.1718 - accuracy: 0.9296 - val_loss: 0.2329 - val_accuracy: 0.9090\n",
      "Epoch 48/75\n",
      "100/100 [==============================] - 127s 1s/step - loss: 0.1557 - accuracy: 0.9381 - val_loss: 0.2654 - val_accuracy: 0.8952\n",
      "Epoch 49/75\n",
      "100/100 [==============================] - 126s 1s/step - loss: 0.1619 - accuracy: 0.9319 - val_loss: 0.2592 - val_accuracy: 0.9103\n",
      "Epoch 50/75\n",
      "100/100 [==============================] - 126s 1s/step - loss: 0.1595 - accuracy: 0.9358 - val_loss: 0.2426 - val_accuracy: 0.9076\n",
      "Epoch 51/75\n",
      "100/100 [==============================] - 127s 1s/step - loss: 0.1545 - accuracy: 0.9386 - val_loss: 0.2422 - val_accuracy: 0.9028\n",
      "Epoch 52/75\n",
      "100/100 [==============================] - 127s 1s/step - loss: 0.1503 - accuracy: 0.9384 - val_loss: 0.2561 - val_accuracy: 0.9067\n",
      "Epoch 53/75\n",
      "100/100 [==============================] - 127s 1s/step - loss: 0.1472 - accuracy: 0.9422 - val_loss: 0.2374 - val_accuracy: 0.9107\n",
      "Epoch 54/75\n",
      "100/100 [==============================] - 126s 1s/step - loss: 0.1417 - accuracy: 0.9447 - val_loss: 0.2887 - val_accuracy: 0.9014\n",
      "Epoch 55/75\n",
      "100/100 [==============================] - 126s 1s/step - loss: 0.1451 - accuracy: 0.9434 - val_loss: 0.2409 - val_accuracy: 0.9036\n",
      "Epoch 56/75\n",
      "100/100 [==============================] - 127s 1s/step - loss: 0.1384 - accuracy: 0.9459 - val_loss: 0.2194 - val_accuracy: 0.9214\n",
      "Epoch 57/75\n",
      "100/100 [==============================] - 126s 1s/step - loss: 0.1424 - accuracy: 0.9427 - val_loss: 0.2261 - val_accuracy: 0.9143\n",
      "Epoch 58/75\n",
      "100/100 [==============================] - 127s 1s/step - loss: 0.1299 - accuracy: 0.9488 - val_loss: 0.2193 - val_accuracy: 0.9174\n",
      "Epoch 59/75\n",
      "100/100 [==============================] - 126s 1s/step - loss: 0.1351 - accuracy: 0.9475 - val_loss: 0.2617 - val_accuracy: 0.9067\n",
      "Epoch 60/75\n",
      "100/100 [==============================] - 126s 1s/step - loss: 0.1279 - accuracy: 0.9514 - val_loss: 0.2693 - val_accuracy: 0.9076\n",
      "Epoch 61/75\n",
      "100/100 [==============================] - 126s 1s/step - loss: 0.1305 - accuracy: 0.9489 - val_loss: 0.2677 - val_accuracy: 0.9090\n",
      "Epoch 62/75\n",
      "100/100 [==============================] - 126s 1s/step - loss: 0.1201 - accuracy: 0.9516 - val_loss: 0.2350 - val_accuracy: 0.9165\n",
      "Epoch 63/75\n",
      "100/100 [==============================] - 127s 1s/step - loss: 0.1202 - accuracy: 0.9542 - val_loss: 0.2487 - val_accuracy: 0.9201\n",
      "Epoch 64/75\n",
      "100/100 [==============================] - 126s 1s/step - loss: 0.1220 - accuracy: 0.9515 - val_loss: 0.2384 - val_accuracy: 0.9116\n",
      "Epoch 65/75\n",
      "100/100 [==============================] - 126s 1s/step - loss: 0.1119 - accuracy: 0.9582 - val_loss: 0.2418 - val_accuracy: 0.9165\n",
      "Epoch 66/75\n",
      "100/100 [==============================] - 126s 1s/step - loss: 0.1160 - accuracy: 0.9512 - val_loss: 0.2509 - val_accuracy: 0.9112\n",
      "Epoch 67/75\n",
      "100/100 [==============================] - 126s 1s/step - loss: 0.1113 - accuracy: 0.9567 - val_loss: 0.2893 - val_accuracy: 0.9005\n",
      "Epoch 68/75\n",
      "100/100 [==============================] - 126s 1s/step - loss: 0.1070 - accuracy: 0.9583 - val_loss: 0.2625 - val_accuracy: 0.9121\n",
      "Epoch 69/75\n",
      "100/100 [==============================] - 126s 1s/step - loss: 0.1115 - accuracy: 0.9565 - val_loss: 0.2403 - val_accuracy: 0.9170\n",
      "Epoch 70/75\n",
      "100/100 [==============================] - 126s 1s/step - loss: 0.1079 - accuracy: 0.9598 - val_loss: 0.2532 - val_accuracy: 0.9099\n",
      "Epoch 71/75\n",
      "100/100 [==============================] - 126s 1s/step - loss: 0.0980 - accuracy: 0.9622 - val_loss: 0.2302 - val_accuracy: 0.9210\n",
      "Epoch 72/75\n",
      "100/100 [==============================] - 126s 1s/step - loss: 0.1068 - accuracy: 0.9591 - val_loss: 0.2529 - val_accuracy: 0.9205\n",
      "Epoch 73/75\n",
      "100/100 [==============================] - 126s 1s/step - loss: 0.1029 - accuracy: 0.9608 - val_loss: 0.3198 - val_accuracy: 0.8921\n",
      "Epoch 74/75\n",
      "100/100 [==============================] - 126s 1s/step - loss: 0.0947 - accuracy: 0.9640 - val_loss: 0.2551 - val_accuracy: 0.9130\n",
      "Epoch 75/75\n",
      "100/100 [==============================] - 126s 1s/step - loss: 0.0981 - accuracy: 0.9630 - val_loss: 0.2615 - val_accuracy: 0.9147\n"
     ]
    },
    {
     "data": {
      "image/png": "[encoded data removed]",
      "text/plain": [
       "<Figure size 432x288 with 1 Axes>"
      ]
     },
     "metadata": {
      "needs_background": "light",
      "tags": []
     },
     "output_type": "display_data"
    }
   ],
   "source": [
    "history_augmented_dataset = deeper_model.fit_generator(train_augmented_iterator, steps_per_epoch=len(train_augmented_iterator), validation_data=test_augmented_iterator, validation_steps=len(test_augmented_iterator), epochs=75)\n",
    "plot_loss(history_augmented_dataset)"
   ]
  },
  {
   "cell_type": "markdown",
   "metadata": {
    "id": "Ov7N4zg7zcRw"
   },
   "source": [
    "# Kesimpulan\n",
    "Sweetspot berada pada epoch ke-58. Nilai validation loss rendah dan akurasi sebesar 91.74% dengan menggunakan optimizer Adam dan data images yang sudah diaugmentasi menggunakan width shift, height shift, serta horizontal flip. Kalau diperhatikan model tidak terlalu overfit karena validation loss masih belum jelas kelihatan trendnya. Jika nilai epoch dinaikkan akan semakin jelas apakah model kita overfit atau tidak."
   ]
  }
 ],
 "metadata": {
  "accelerator": "GPU",
  "colab": {
   "collapsed_sections": [],
   "name": "Assignment15_Togi_No.2.ipynb",
   "provenance": []
  },
  "kernelspec": {
   "display_name": "Python 3",
   "language": "python",
   "name": "python3"
  },
  "language_info": {
   "codemirror_mode": {
    "name": "ipython",
    "version": 3
   },
   "file_extension": ".py",
   "mimetype": "text/x-python",
   "name": "python",
   "nbconvert_exporter": "python",
   "pygments_lexer": "ipython3",
   "version": "3.8.5"
  }
 },
 "nbformat": 4,
 "nbformat_minor": 1
}
