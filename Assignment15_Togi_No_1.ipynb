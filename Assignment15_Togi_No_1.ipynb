{
 "cells": [
  {
   "cell_type": "code",
   "execution_count": null,
   "metadata": {
    "id": "9qiRzsdJmveo"
   },
   "outputs": [],
   "source": [
    "zip_path = '/content/drive/My\\ Drive/Deep_Learning/cats-dogs.zip'\n",
    "!cp {zip_path} /content/\n",
    "!cd /content/\n",
    "!unzip -q /content/cats-dogs.zip -d /content\n",
    "!rm /content/cats-dogs.zip"
   ]
  },
  {
   "cell_type": "code",
   "execution_count": null,
   "metadata": {
    "id": "ZalXgdbpom24"
   },
   "outputs": [],
   "source": [
    "import os\n",
    "import numpy as np\n",
    "import matplotlib.pyplot as plt"
   ]
  },
  {
   "cell_type": "code",
   "execution_count": null,
   "metadata": {
    "id": "xPfWuyAYpJfa"
   },
   "outputs": [],
   "source": [
    "def plot_loss(history):\n",
    "  plt.plot(history.history['loss'], label='loss')\n",
    "  plt.plot(history.history['val_loss'], label='val_loss')\n",
    "  plt.xlabel('Epoch')\n",
    "  plt.ylabel('Loss')\n",
    "  plt.legend()\n",
    "  plt.grid(True)"
   ]
  },
  {
   "cell_type": "markdown",
   "metadata": {
    "id": "-V37BwXZwcx3"
   },
   "source": [
    "## Baseline CNN model"
   ]
  },
  {
   "cell_type": "code",
   "execution_count": null,
   "metadata": {
    "id": "4JG2VYeZxK1I"
   },
   "outputs": [],
   "source": [
    "#Libraries\n",
    "from tensorflow.keras.models import Sequential\n",
    "from tensorflow.keras.layers import Conv2D, MaxPooling2D, Dense, Flatten\n",
    "from tensorflow.keras.optimizers import SGD\n",
    "from tensorflow.keras.preprocessing.image import ImageDataGenerator"
   ]
  },
  {
   "cell_type": "code",
   "execution_count": null,
   "metadata": {
    "colab": {
     "base_uri": "https://localhost:8080/",
     "height": 348
    },
    "id": "q2VBJPsXwgtD",
    "outputId": "93b69785-53e3-4106-9a31-59d421d478b3"
   },
   "outputs": [
    {
     "name": "stdout",
     "output_type": "stream",
     "text": [
      "Model: \"sequential\"\n",
      "_________________________________________________________________\n",
      "Layer (type)                 Output Shape              Param #   \n",
      "=================================================================\n",
      "conv2d (Conv2D)              (None, 200, 200, 32)      896       \n",
      "_________________________________________________________________\n",
      "max_pooling2d (MaxPooling2D) (None, 100, 100, 32)      0         \n",
      "_________________________________________________________________\n",
      "flatten (Flatten)            (None, 320000)            0         \n",
      "_________________________________________________________________\n",
      "dense (Dense)                (None, 128)               40960128  \n",
      "_________________________________________________________________\n",
      "dense_1 (Dense)              (None, 1)                 129       \n",
      "=================================================================\n",
      "Total params: 40,961,153\n",
      "Trainable params: 40,961,153\n",
      "Non-trainable params: 0\n",
      "_________________________________________________________________\n"
     ]
    }
   ],
   "source": [
    "\n",
    "model = Sequential()\n",
    "model.add(Conv2D(32, (3, 3), activation='relu', kernel_initializer='he_uniform', padding='same', input_shape=(200, 200, 3)))\n",
    "model.add(MaxPooling2D((2, 2)))\n",
    "\n",
    "model.add(Flatten())\n",
    "\n",
    "model.add(Dense(128, activation='relu', kernel_initializer='he_uniform'))\n",
    "model.add(Dense(1, activation='sigmoid'))\n",
    "\n",
    "opt = SGD(lr=0.001, momentum=0.9)\n",
    "\n",
    "model.compile(optimizer=opt, loss='binary_crossentropy', metrics=['accuracy'])\n",
    "\n",
    "model.summary()"
   ]
  },
  {
   "cell_type": "code",
   "execution_count": null,
   "metadata": {
    "colab": {
     "base_uri": "https://localhost:8080/",
     "height": 54
    },
    "id": "Wq56QG4wwmpz",
    "outputId": "df9d563e-2f46-40aa-a9a1-65651988669c"
   },
   "outputs": [
    {
     "name": "stdout",
     "output_type": "stream",
     "text": [
      "Found 12749 images belonging to 2 classes.\n",
      "Found 2252 images belonging to 2 classes.\n"
     ]
    }
   ],
   "source": [
    "dataset_dir = '/content/'\n",
    "\n",
    "datagen = ImageDataGenerator(rescale=1.0/255.0)\n",
    "\n",
    "train_iterator = datagen.flow_from_directory(os.path.join(dataset_dir, 'train'), class_mode='binary', batch_size=128, target_size=(200, 200))\n",
    "test_iterator = datagen.flow_from_directory(os.path.join(dataset_dir, 'test'), class_mode='binary', batch_size=128, target_size=(200, 200))"
   ]
  },
  {
   "cell_type": "code",
   "execution_count": null,
   "metadata": {
    "colab": {
     "base_uri": "https://localhost:8080/",
     "height": 1000
    },
    "id": "KMzvZaI2yGx_",
    "outputId": "8e789262-43b9-4888-9b7e-5a2a3a5970d7"
   },
   "outputs": [
    {
     "name": "stdout",
     "output_type": "stream",
     "text": [
      "WARNING:tensorflow:From <ipython-input-7-fa337855544d>:1: Model.fit_generator (from tensorflow.python.keras.engine.training) is deprecated and will be removed in a future version.\n",
      "Instructions for updating:\n",
      "Please use Model.fit, which supports generators.\n",
      "Epoch 1/75\n",
      "  2/100 [..............................] - ETA: 5s - loss: 2.8092 - accuracy: 0.4766WARNING:tensorflow:Callbacks method `on_train_batch_end` is slow compared to the batch time (batch time: 0.0447s vs `on_train_batch_end` time: 0.0732s). Check your callbacks.\n",
      "100/100 [==============================] - 44s 443ms/step - loss: 0.7329 - accuracy: 0.5581 - val_loss: 0.6409 - val_accuracy: 0.6332\n",
      "Epoch 2/75\n",
      "100/100 [==============================] - 44s 441ms/step - loss: 0.6630 - accuracy: 0.5778 - val_loss: 0.6726 - val_accuracy: 0.5972\n",
      "Epoch 3/75\n",
      "100/100 [==============================] - 43s 434ms/step - loss: 0.6685 - accuracy: 0.6013 - val_loss: 0.6638 - val_accuracy: 0.6288\n",
      "Epoch 4/75\n",
      "100/100 [==============================] - 44s 440ms/step - loss: 0.6591 - accuracy: 0.6282 - val_loss: 0.6633 - val_accuracy: 0.6190\n",
      "Epoch 5/75\n",
      "100/100 [==============================] - 44s 439ms/step - loss: 0.6562 - accuracy: 0.6241 - val_loss: 0.6657 - val_accuracy: 0.6026\n",
      "Epoch 6/75\n",
      "100/100 [==============================] - 44s 437ms/step - loss: 0.6515 - accuracy: 0.6361 - val_loss: 0.6555 - val_accuracy: 0.6266\n",
      "Epoch 7/75\n",
      "100/100 [==============================] - 44s 437ms/step - loss: 0.6440 - accuracy: 0.6417 - val_loss: 0.6420 - val_accuracy: 0.6217\n",
      "Epoch 8/75\n",
      "100/100 [==============================] - 44s 437ms/step - loss: 0.6297 - accuracy: 0.6427 - val_loss: 0.6342 - val_accuracy: 0.6328\n",
      "Epoch 9/75\n",
      "100/100 [==============================] - 44s 438ms/step - loss: 0.6192 - accuracy: 0.6515 - val_loss: 0.6363 - val_accuracy: 0.6456\n",
      "Epoch 10/75\n",
      "100/100 [==============================] - 44s 436ms/step - loss: 0.6071 - accuracy: 0.6620 - val_loss: 0.6275 - val_accuracy: 0.6385\n",
      "Epoch 11/75\n",
      "100/100 [==============================] - 44s 438ms/step - loss: 0.6020 - accuracy: 0.6711 - val_loss: 0.6249 - val_accuracy: 0.6505\n",
      "Epoch 12/75\n",
      "100/100 [==============================] - 44s 442ms/step - loss: 0.5923 - accuracy: 0.6769 - val_loss: 0.6078 - val_accuracy: 0.6572\n",
      "Epoch 13/75\n",
      "100/100 [==============================] - 44s 441ms/step - loss: 0.5823 - accuracy: 0.6905 - val_loss: 0.5957 - val_accuracy: 0.6758\n",
      "Epoch 14/75\n",
      "100/100 [==============================] - 44s 437ms/step - loss: 0.5741 - accuracy: 0.7034 - val_loss: 0.5962 - val_accuracy: 0.6692\n",
      "Epoch 15/75\n",
      "100/100 [==============================] - 44s 438ms/step - loss: 0.5642 - accuracy: 0.7059 - val_loss: 0.6541 - val_accuracy: 0.6137\n",
      "Epoch 16/75\n",
      "100/100 [==============================] - 43s 435ms/step - loss: 0.5766 - accuracy: 0.6971 - val_loss: 0.5878 - val_accuracy: 0.6758\n",
      "Epoch 17/75\n",
      "100/100 [==============================] - 44s 438ms/step - loss: 0.5518 - accuracy: 0.7173 - val_loss: 0.5837 - val_accuracy: 0.6718\n",
      "Epoch 18/75\n",
      "100/100 [==============================] - 44s 438ms/step - loss: 0.5425 - accuracy: 0.7253 - val_loss: 0.5862 - val_accuracy: 0.6670\n",
      "Epoch 19/75\n",
      "100/100 [==============================] - 44s 440ms/step - loss: 0.5294 - accuracy: 0.7308 - val_loss: 0.5785 - val_accuracy: 0.6812\n",
      "Epoch 20/75\n",
      "100/100 [==============================] - 44s 436ms/step - loss: 0.5204 - accuracy: 0.7444 - val_loss: 0.7382 - val_accuracy: 0.5933\n",
      "Epoch 21/75\n",
      "100/100 [==============================] - 44s 436ms/step - loss: 0.5231 - accuracy: 0.7355 - val_loss: 0.5806 - val_accuracy: 0.6856\n",
      "Epoch 22/75\n",
      "100/100 [==============================] - 44s 437ms/step - loss: 0.5061 - accuracy: 0.7536 - val_loss: 0.6128 - val_accuracy: 0.6781\n",
      "Epoch 23/75\n",
      "100/100 [==============================] - 44s 438ms/step - loss: 0.4862 - accuracy: 0.7674 - val_loss: 0.5763 - val_accuracy: 0.7003\n",
      "Epoch 24/75\n",
      "100/100 [==============================] - 44s 439ms/step - loss: 0.4730 - accuracy: 0.7808 - val_loss: 0.5849 - val_accuracy: 0.6807\n",
      "Epoch 25/75\n",
      "100/100 [==============================] - 44s 437ms/step - loss: 0.4745 - accuracy: 0.7710 - val_loss: 0.5618 - val_accuracy: 0.7038\n",
      "Epoch 26/75\n",
      "100/100 [==============================] - 44s 444ms/step - loss: 0.4412 - accuracy: 0.8003 - val_loss: 0.5665 - val_accuracy: 0.6967\n",
      "Epoch 27/75\n",
      "100/100 [==============================] - 44s 439ms/step - loss: 0.4440 - accuracy: 0.7939 - val_loss: 0.5601 - val_accuracy: 0.7060\n",
      "Epoch 28/75\n",
      "100/100 [==============================] - 44s 436ms/step - loss: 0.4168 - accuracy: 0.8165 - val_loss: 0.5620 - val_accuracy: 0.7065\n",
      "Epoch 29/75\n",
      "100/100 [==============================] - 44s 438ms/step - loss: 0.4059 - accuracy: 0.8208 - val_loss: 0.6383 - val_accuracy: 0.6714\n",
      "Epoch 30/75\n",
      "100/100 [==============================] - 44s 438ms/step - loss: 0.3928 - accuracy: 0.8281 - val_loss: 0.5632 - val_accuracy: 0.7136\n",
      "Epoch 31/75\n",
      "100/100 [==============================] - 44s 441ms/step - loss: 0.3686 - accuracy: 0.8483 - val_loss: 0.5773 - val_accuracy: 0.6976\n",
      "Epoch 32/75\n",
      "100/100 [==============================] - 44s 437ms/step - loss: 0.3761 - accuracy: 0.8345 - val_loss: 0.5914 - val_accuracy: 0.7003\n",
      "Epoch 33/75\n",
      "100/100 [==============================] - 44s 442ms/step - loss: 0.3449 - accuracy: 0.8619 - val_loss: 0.5781 - val_accuracy: 0.7131\n",
      "Epoch 34/75\n",
      "100/100 [==============================] - 44s 437ms/step - loss: 0.3273 - accuracy: 0.8708 - val_loss: 0.5946 - val_accuracy: 0.7083\n",
      "Epoch 35/75\n",
      "100/100 [==============================] - 44s 437ms/step - loss: 0.3079 - accuracy: 0.8810 - val_loss: 0.5771 - val_accuracy: 0.7198\n",
      "Epoch 36/75\n",
      "100/100 [==============================] - 44s 436ms/step - loss: 0.2853 - accuracy: 0.8920 - val_loss: 0.5884 - val_accuracy: 0.7109\n",
      "Epoch 37/75\n",
      "100/100 [==============================] - 44s 437ms/step - loss: 0.2971 - accuracy: 0.8830 - val_loss: 0.6526 - val_accuracy: 0.6856\n",
      "Epoch 38/75\n",
      "100/100 [==============================] - 44s 436ms/step - loss: 0.2588 - accuracy: 0.9116 - val_loss: 0.5946 - val_accuracy: 0.7140\n",
      "Epoch 39/75\n",
      "100/100 [==============================] - 44s 435ms/step - loss: 0.2497 - accuracy: 0.9121 - val_loss: 0.6293 - val_accuracy: 0.7052\n",
      "Epoch 40/75\n",
      "100/100 [==============================] - 44s 440ms/step - loss: 0.2406 - accuracy: 0.9131 - val_loss: 0.6177 - val_accuracy: 0.7171\n",
      "Epoch 41/75\n",
      "100/100 [==============================] - 44s 439ms/step - loss: 0.2106 - accuracy: 0.9351 - val_loss: 0.6568 - val_accuracy: 0.7034\n",
      "Epoch 42/75\n",
      "100/100 [==============================] - 44s 441ms/step - loss: 0.2017 - accuracy: 0.9349 - val_loss: 0.6491 - val_accuracy: 0.7047\n",
      "Epoch 43/75\n",
      "100/100 [==============================] - 44s 439ms/step - loss: 0.1814 - accuracy: 0.9478 - val_loss: 0.6775 - val_accuracy: 0.6976\n",
      "Epoch 44/75\n",
      "100/100 [==============================] - 44s 442ms/step - loss: 0.1765 - accuracy: 0.9461 - val_loss: 0.6584 - val_accuracy: 0.7185\n",
      "Epoch 45/75\n",
      "100/100 [==============================] - 44s 440ms/step - loss: 0.1694 - accuracy: 0.9500 - val_loss: 0.6734 - val_accuracy: 0.7078\n",
      "Epoch 46/75\n",
      "100/100 [==============================] - 44s 443ms/step - loss: 0.1484 - accuracy: 0.9631 - val_loss: 0.6689 - val_accuracy: 0.7114\n",
      "Epoch 47/75\n",
      "100/100 [==============================] - 44s 444ms/step - loss: 0.1374 - accuracy: 0.9672 - val_loss: 0.6653 - val_accuracy: 0.7158\n",
      "Epoch 48/75\n",
      "100/100 [==============================] - 44s 438ms/step - loss: 0.1262 - accuracy: 0.9730 - val_loss: 0.6843 - val_accuracy: 0.7158\n",
      "Epoch 49/75\n",
      "100/100 [==============================] - 44s 439ms/step - loss: 0.1297 - accuracy: 0.9674 - val_loss: 0.6823 - val_accuracy: 0.7171\n",
      "Epoch 50/75\n",
      "100/100 [==============================] - 44s 438ms/step - loss: 0.1228 - accuracy: 0.9699 - val_loss: 0.6854 - val_accuracy: 0.7225\n",
      "Epoch 51/75\n",
      "100/100 [==============================] - 45s 445ms/step - loss: 0.1007 - accuracy: 0.9815 - val_loss: 0.7091 - val_accuracy: 0.7136\n",
      "Epoch 52/75\n",
      "100/100 [==============================] - 44s 441ms/step - loss: 0.0949 - accuracy: 0.9821 - val_loss: 0.7220 - val_accuracy: 0.7127\n",
      "Epoch 53/75\n",
      "100/100 [==============================] - 44s 443ms/step - loss: 0.0844 - accuracy: 0.9880 - val_loss: 0.7406 - val_accuracy: 0.7180\n",
      "Epoch 54/75\n",
      "100/100 [==============================] - 45s 447ms/step - loss: 0.0914 - accuracy: 0.9818 - val_loss: 0.7362 - val_accuracy: 0.7149\n",
      "Epoch 55/75\n",
      "100/100 [==============================] - 44s 442ms/step - loss: 0.0717 - accuracy: 0.9902 - val_loss: 0.7809 - val_accuracy: 0.7123\n",
      "Epoch 56/75\n",
      "100/100 [==============================] - 44s 442ms/step - loss: 0.0661 - accuracy: 0.9926 - val_loss: 0.7774 - val_accuracy: 0.7114\n",
      "Epoch 57/75\n",
      "100/100 [==============================] - 44s 440ms/step - loss: 0.0605 - accuracy: 0.9939 - val_loss: 0.7971 - val_accuracy: 0.7207\n",
      "Epoch 58/75\n",
      "100/100 [==============================] - 44s 441ms/step - loss: 0.0631 - accuracy: 0.9922 - val_loss: 0.7872 - val_accuracy: 0.7127\n",
      "Epoch 59/75\n",
      "100/100 [==============================] - 44s 439ms/step - loss: 0.0568 - accuracy: 0.9940 - val_loss: 0.7900 - val_accuracy: 0.7220\n",
      "Epoch 60/75\n",
      "100/100 [==============================] - 44s 440ms/step - loss: 0.0487 - accuracy: 0.9964 - val_loss: 0.8196 - val_accuracy: 0.7198\n",
      "Epoch 61/75\n",
      "100/100 [==============================] - 44s 440ms/step - loss: 0.0440 - accuracy: 0.9969 - val_loss: 0.8264 - val_accuracy: 0.7167\n",
      "Epoch 62/75\n",
      "100/100 [==============================] - 44s 439ms/step - loss: 0.0407 - accuracy: 0.9980 - val_loss: 0.8375 - val_accuracy: 0.7194\n",
      "Epoch 63/75\n",
      "100/100 [==============================] - 44s 439ms/step - loss: 0.0423 - accuracy: 0.9973 - val_loss: 0.8466 - val_accuracy: 0.7189\n",
      "Epoch 64/75\n",
      "100/100 [==============================] - 44s 443ms/step - loss: 0.0349 - accuracy: 0.9985 - val_loss: 0.8540 - val_accuracy: 0.7167\n",
      "Epoch 65/75\n",
      "100/100 [==============================] - 44s 439ms/step - loss: 0.0335 - accuracy: 0.9991 - val_loss: 0.8587 - val_accuracy: 0.7198\n",
      "Epoch 66/75\n",
      "100/100 [==============================] - 44s 438ms/step - loss: 0.0326 - accuracy: 0.9987 - val_loss: 0.9298 - val_accuracy: 0.7127\n",
      "Epoch 67/75\n",
      "100/100 [==============================] - 44s 439ms/step - loss: 0.0336 - accuracy: 0.9986 - val_loss: 0.9107 - val_accuracy: 0.7109\n",
      "Epoch 68/75\n",
      "100/100 [==============================] - 44s 438ms/step - loss: 0.0283 - accuracy: 0.9991 - val_loss: 0.8819 - val_accuracy: 0.7171\n",
      "Epoch 69/75\n",
      "100/100 [==============================] - 44s 438ms/step - loss: 0.0257 - accuracy: 0.9993 - val_loss: 0.9055 - val_accuracy: 0.7114\n",
      "Epoch 70/75\n",
      "100/100 [==============================] - 44s 438ms/step - loss: 0.0281 - accuracy: 0.9984 - val_loss: 0.9260 - val_accuracy: 0.7216\n",
      "Epoch 71/75\n",
      "100/100 [==============================] - 44s 437ms/step - loss: 0.0271 - accuracy: 0.9987 - val_loss: 0.9058 - val_accuracy: 0.7158\n",
      "Epoch 72/75\n",
      "100/100 [==============================] - 44s 435ms/step - loss: 0.0213 - accuracy: 0.9996 - val_loss: 0.9291 - val_accuracy: 0.7185\n",
      "Epoch 73/75\n",
      "100/100 [==============================] - 44s 438ms/step - loss: 0.0213 - accuracy: 0.9995 - val_loss: 0.9279 - val_accuracy: 0.7198\n",
      "Epoch 74/75\n",
      "100/100 [==============================] - 44s 437ms/step - loss: 0.0206 - accuracy: 0.9996 - val_loss: 0.9537 - val_accuracy: 0.7242\n",
      "Epoch 75/75\n",
      "100/100 [==============================] - 44s 440ms/step - loss: 0.0189 - accuracy: 0.9996 - val_loss: 0.9405 - val_accuracy: 0.7176\n"
     ]
    },
    {
     "data": {
      "image/png": "[encoded data removed]",
      "text/plain": [
       "<Figure size 432x288 with 1 Axes>"
      ]
     },
     "metadata": {
      "needs_background": "light",
      "tags": []
     },
     "output_type": "display_data"
    }
   ],
   "source": [
    "history_base_model = model.fit_generator(train_iterator, steps_per_epoch=len(train_iterator), validation_data=test_iterator, validation_steps=len(test_iterator), epochs=75)\n",
    "plot_loss(history_base_model)"
   ]
  },
  {
   "cell_type": "markdown",
   "metadata": {
    "id": "7QYxkW1nu6PN"
   },
   "source": [
    "## Augmented"
   ]
  },
  {
   "cell_type": "code",
   "execution_count": null,
   "metadata": {
    "id": "u1rb6JHSIOZt"
   },
   "outputs": [],
   "source": [
    "train_datagen = ImageDataGenerator(rescale=1.0/255.0, width_shift_range=0.1, height_shift_range=0.1, zoom_range=[0.5,1.0], brightness_range=[0.2,1.0], rotation_range=90, horizontal_flip=True)\n",
    "test_datagen = ImageDataGenerator(rescale=1.0/255.0)"
   ]
  },
  {
   "cell_type": "code",
   "execution_count": null,
   "metadata": {
    "colab": {
     "base_uri": "https://localhost:8080/",
     "height": 54
    },
    "id": "ChdkB0cEI-K2",
    "outputId": "4cd6f294-dcb4-4a4b-ca67-8fd81693bf1e"
   },
   "outputs": [
    {
     "name": "stdout",
     "output_type": "stream",
     "text": [
      "Found 12749 images belonging to 2 classes.\n",
      "Found 2252 images belonging to 2 classes.\n"
     ]
    }
   ],
   "source": [
    "train_augmented_iterator = train_datagen.flow_from_directory(os.path.join(dataset_dir, 'train'), class_mode='binary', batch_size=128, target_size=(200, 200))\n",
    "test_augmented_iterator = test_datagen.flow_from_directory(os.path.join(dataset_dir, 'test'), class_mode='binary', batch_size=128, target_size=(200, 200))"
   ]
  },
  {
   "cell_type": "code",
   "execution_count": null,
   "metadata": {
    "colab": {
     "base_uri": "https://localhost:8080/",
     "height": 1000
    },
    "id": "RmWuKGyTSja8",
    "outputId": "91882441-aafd-4ee5-a97a-95a7cc06a7a7"
   },
   "outputs": [
    {
     "name": "stdout",
     "output_type": "stream",
     "text": [
      "Epoch 1/75\n",
      "100/100 [==============================] - 148s 1s/step - loss: 0.7455 - accuracy: 0.5384 - val_loss: 0.6514 - val_accuracy: 0.5742\n",
      "Epoch 2/75\n",
      "100/100 [==============================] - 147s 1s/step - loss: 0.6604 - accuracy: 0.6008 - val_loss: 0.6349 - val_accuracy: 0.6319\n",
      "Epoch 3/75\n",
      "100/100 [==============================] - 146s 1s/step - loss: 0.6524 - accuracy: 0.6144 - val_loss: 0.6447 - val_accuracy: 0.6150\n",
      "Epoch 4/75\n",
      "100/100 [==============================] - 147s 1s/step - loss: 0.6367 - accuracy: 0.6310 - val_loss: 0.6273 - val_accuracy: 0.6368\n",
      "Epoch 5/75\n",
      "100/100 [==============================] - 146s 1s/step - loss: 0.6315 - accuracy: 0.6374 - val_loss: 0.5984 - val_accuracy: 0.6581\n",
      "Epoch 6/75\n",
      "100/100 [==============================] - 147s 1s/step - loss: 0.6263 - accuracy: 0.6493 - val_loss: 0.5762 - val_accuracy: 0.6812\n",
      "Epoch 7/75\n",
      "100/100 [==============================] - 146s 1s/step - loss: 0.6201 - accuracy: 0.6477 - val_loss: 0.5943 - val_accuracy: 0.6572\n",
      "Epoch 8/75\n",
      "100/100 [==============================] - 146s 1s/step - loss: 0.6163 - accuracy: 0.6547 - val_loss: 0.5685 - val_accuracy: 0.6896\n",
      "Epoch 9/75\n",
      "100/100 [==============================] - 146s 1s/step - loss: 0.6197 - accuracy: 0.6530 - val_loss: 0.5903 - val_accuracy: 0.6750\n",
      "Epoch 10/75\n",
      "100/100 [==============================] - 147s 1s/step - loss: 0.6134 - accuracy: 0.6606 - val_loss: 0.5856 - val_accuracy: 0.6807\n",
      "Epoch 11/75\n",
      "100/100 [==============================] - 147s 1s/step - loss: 0.6130 - accuracy: 0.6633 - val_loss: 0.5617 - val_accuracy: 0.6994\n",
      "Epoch 12/75\n",
      "100/100 [==============================] - 147s 1s/step - loss: 0.6121 - accuracy: 0.6574 - val_loss: 0.5735 - val_accuracy: 0.6874\n",
      "Epoch 13/75\n",
      "100/100 [==============================] - 147s 1s/step - loss: 0.6085 - accuracy: 0.6593 - val_loss: 0.5685 - val_accuracy: 0.6940\n",
      "Epoch 14/75\n",
      "100/100 [==============================] - 147s 1s/step - loss: 0.6042 - accuracy: 0.6681 - val_loss: 0.5794 - val_accuracy: 0.6834\n",
      "Epoch 15/75\n",
      "100/100 [==============================] - 146s 1s/step - loss: 0.6055 - accuracy: 0.6679 - val_loss: 0.5637 - val_accuracy: 0.6958\n",
      "Epoch 16/75\n",
      "100/100 [==============================] - 147s 1s/step - loss: 0.6019 - accuracy: 0.6677 - val_loss: 0.5577 - val_accuracy: 0.6994\n",
      "Epoch 17/75\n",
      "100/100 [==============================] - 147s 1s/step - loss: 0.5989 - accuracy: 0.6690 - val_loss: 0.5689 - val_accuracy: 0.6901\n",
      "Epoch 18/75\n",
      "100/100 [==============================] - 147s 1s/step - loss: 0.6004 - accuracy: 0.6695 - val_loss: 0.5464 - val_accuracy: 0.7025\n",
      "Epoch 19/75\n",
      "100/100 [==============================] - 146s 1s/step - loss: 0.6018 - accuracy: 0.6716 - val_loss: 0.5530 - val_accuracy: 0.7038\n",
      "Epoch 20/75\n",
      "100/100 [==============================] - 147s 1s/step - loss: 0.5991 - accuracy: 0.6699 - val_loss: 0.5717 - val_accuracy: 0.6923\n",
      "Epoch 21/75\n",
      "100/100 [==============================] - 147s 1s/step - loss: 0.5976 - accuracy: 0.6751 - val_loss: 0.5542 - val_accuracy: 0.7043\n",
      "Epoch 22/75\n",
      "100/100 [==============================] - 147s 1s/step - loss: 0.5934 - accuracy: 0.6786 - val_loss: 0.5484 - val_accuracy: 0.7060\n",
      "Epoch 23/75\n",
      "100/100 [==============================] - 148s 1s/step - loss: 0.5995 - accuracy: 0.6728 - val_loss: 0.5592 - val_accuracy: 0.7029\n",
      "Epoch 24/75\n",
      "100/100 [==============================] - 155s 2s/step - loss: 0.5920 - accuracy: 0.6844 - val_loss: 0.5609 - val_accuracy: 0.7038\n",
      "Epoch 25/75\n",
      "100/100 [==============================] - 159s 2s/step - loss: 0.5908 - accuracy: 0.6816 - val_loss: 0.5605 - val_accuracy: 0.6936\n",
      "Epoch 26/75\n",
      "100/100 [==============================] - 162s 2s/step - loss: 0.5932 - accuracy: 0.6763 - val_loss: 0.5502 - val_accuracy: 0.7025\n",
      "Epoch 27/75\n",
      "100/100 [==============================] - 162s 2s/step - loss: 0.5863 - accuracy: 0.6800 - val_loss: 0.5558 - val_accuracy: 0.6976\n",
      "Epoch 28/75\n",
      "100/100 [==============================] - 162s 2s/step - loss: 0.5868 - accuracy: 0.6848 - val_loss: 0.5496 - val_accuracy: 0.7100\n",
      "Epoch 29/75\n",
      "100/100 [==============================] - 162s 2s/step - loss: 0.5891 - accuracy: 0.6808 - val_loss: 0.5457 - val_accuracy: 0.7087\n",
      "Epoch 30/75\n",
      "100/100 [==============================] - 163s 2s/step - loss: 0.5821 - accuracy: 0.6900 - val_loss: 0.5435 - val_accuracy: 0.7034\n",
      "Epoch 31/75\n",
      "100/100 [==============================] - 164s 2s/step - loss: 0.5873 - accuracy: 0.6840 - val_loss: 0.5522 - val_accuracy: 0.7065\n",
      "Epoch 32/75\n",
      "100/100 [==============================] - 164s 2s/step - loss: 0.5878 - accuracy: 0.6890 - val_loss: 0.5490 - val_accuracy: 0.7052\n",
      "Epoch 33/75\n",
      "100/100 [==============================] - 164s 2s/step - loss: 0.5833 - accuracy: 0.6898 - val_loss: 0.5405 - val_accuracy: 0.7154\n",
      "Epoch 34/75\n",
      "100/100 [==============================] - 164s 2s/step - loss: 0.5844 - accuracy: 0.6840 - val_loss: 0.5477 - val_accuracy: 0.7154\n",
      "Epoch 35/75\n",
      "100/100 [==============================] - 166s 2s/step - loss: 0.5797 - accuracy: 0.6913 - val_loss: 0.5638 - val_accuracy: 0.7083\n",
      "Epoch 36/75\n",
      "100/100 [==============================] - 167s 2s/step - loss: 0.5854 - accuracy: 0.6830 - val_loss: 0.5481 - val_accuracy: 0.7052\n",
      "Epoch 37/75\n",
      "100/100 [==============================] - 167s 2s/step - loss: 0.5774 - accuracy: 0.6931 - val_loss: 0.5458 - val_accuracy: 0.7020\n",
      "Epoch 38/75\n",
      "100/100 [==============================] - 166s 2s/step - loss: 0.5811 - accuracy: 0.6895 - val_loss: 0.5454 - val_accuracy: 0.7038\n",
      "Epoch 39/75\n",
      "100/100 [==============================] - 164s 2s/step - loss: 0.5836 - accuracy: 0.6853 - val_loss: 0.5754 - val_accuracy: 0.6816\n",
      "Epoch 40/75\n",
      "100/100 [==============================] - 165s 2s/step - loss: 0.5829 - accuracy: 0.6846 - val_loss: 0.5392 - val_accuracy: 0.7136\n",
      "Epoch 41/75\n",
      "100/100 [==============================] - 164s 2s/step - loss: 0.5798 - accuracy: 0.6907 - val_loss: 0.5546 - val_accuracy: 0.7069\n",
      "Epoch 42/75\n",
      "100/100 [==============================] - 163s 2s/step - loss: 0.5806 - accuracy: 0.6903 - val_loss: 0.5387 - val_accuracy: 0.7114\n",
      "Epoch 43/75\n",
      "100/100 [==============================] - 165s 2s/step - loss: 0.5731 - accuracy: 0.6955 - val_loss: 0.5579 - val_accuracy: 0.7020\n",
      "Epoch 44/75\n",
      "100/100 [==============================] - 163s 2s/step - loss: 0.5759 - accuracy: 0.6905 - val_loss: 0.5529 - val_accuracy: 0.7052\n",
      "Epoch 45/75\n",
      "100/100 [==============================] - 164s 2s/step - loss: 0.5792 - accuracy: 0.6901 - val_loss: 0.5699 - val_accuracy: 0.6865\n",
      "Epoch 46/75\n",
      "100/100 [==============================] - 164s 2s/step - loss: 0.5772 - accuracy: 0.6880 - val_loss: 0.5397 - val_accuracy: 0.7136\n",
      "Epoch 47/75\n",
      "100/100 [==============================] - 165s 2s/step - loss: 0.5711 - accuracy: 0.6954 - val_loss: 0.5597 - val_accuracy: 0.7012\n",
      "Epoch 48/75\n",
      "100/100 [==============================] - 165s 2s/step - loss: 0.5757 - accuracy: 0.6952 - val_loss: 0.5762 - val_accuracy: 0.6861\n",
      "Epoch 49/75\n",
      "100/100 [==============================] - 165s 2s/step - loss: 0.5765 - accuracy: 0.6972 - val_loss: 0.5469 - val_accuracy: 0.7123\n",
      "Epoch 50/75\n",
      "100/100 [==============================] - 165s 2s/step - loss: 0.5738 - accuracy: 0.6964 - val_loss: 0.5497 - val_accuracy: 0.7043\n",
      "Epoch 51/75\n",
      "100/100 [==============================] - 165s 2s/step - loss: 0.5727 - accuracy: 0.6947 - val_loss: 0.5510 - val_accuracy: 0.7087\n",
      "Epoch 52/75\n",
      "100/100 [==============================] - 165s 2s/step - loss: 0.5714 - accuracy: 0.7003 - val_loss: 0.5349 - val_accuracy: 0.7238\n",
      "Epoch 53/75\n",
      "100/100 [==============================] - 165s 2s/step - loss: 0.5690 - accuracy: 0.7007 - val_loss: 0.5351 - val_accuracy: 0.7251\n",
      "Epoch 54/75\n",
      "100/100 [==============================] - 164s 2s/step - loss: 0.5763 - accuracy: 0.6922 - val_loss: 0.5368 - val_accuracy: 0.7127\n",
      "Epoch 55/75\n",
      "100/100 [==============================] - 165s 2s/step - loss: 0.5690 - accuracy: 0.6998 - val_loss: 0.6036 - val_accuracy: 0.6639\n",
      "Epoch 56/75\n",
      "100/100 [==============================] - 165s 2s/step - loss: 0.5725 - accuracy: 0.6966 - val_loss: 0.5395 - val_accuracy: 0.7149\n",
      "Epoch 57/75\n",
      "100/100 [==============================] - 165s 2s/step - loss: 0.5668 - accuracy: 0.6998 - val_loss: 0.5391 - val_accuracy: 0.7131\n",
      "Epoch 58/75\n",
      "100/100 [==============================] - 160s 2s/step - loss: 0.5688 - accuracy: 0.6989 - val_loss: 0.5867 - val_accuracy: 0.6861\n",
      "Epoch 59/75\n",
      "100/100 [==============================] - 156s 2s/step - loss: 0.5663 - accuracy: 0.6988 - val_loss: 0.5380 - val_accuracy: 0.7118\n",
      "Epoch 60/75\n",
      "100/100 [==============================] - 156s 2s/step - loss: 0.5671 - accuracy: 0.7045 - val_loss: 0.5362 - val_accuracy: 0.7189\n",
      "Epoch 61/75\n",
      "100/100 [==============================] - 154s 2s/step - loss: 0.5730 - accuracy: 0.6976 - val_loss: 0.5270 - val_accuracy: 0.7260\n",
      "Epoch 62/75\n",
      "100/100 [==============================] - 153s 2s/step - loss: 0.5662 - accuracy: 0.7025 - val_loss: 0.5440 - val_accuracy: 0.7149\n",
      "Epoch 63/75\n",
      "100/100 [==============================] - 149s 1s/step - loss: 0.5618 - accuracy: 0.7049 - val_loss: 0.5594 - val_accuracy: 0.7198\n",
      "Epoch 64/75\n",
      "100/100 [==============================] - 148s 1s/step - loss: 0.5651 - accuracy: 0.7024 - val_loss: 0.5388 - val_accuracy: 0.7154\n",
      "Epoch 65/75\n",
      "100/100 [==============================] - 148s 1s/step - loss: 0.5611 - accuracy: 0.7036 - val_loss: 0.5581 - val_accuracy: 0.7060\n",
      "Epoch 66/75\n",
      "100/100 [==============================] - 147s 1s/step - loss: 0.5663 - accuracy: 0.7036 - val_loss: 0.5514 - val_accuracy: 0.7207\n",
      "Epoch 67/75\n",
      "100/100 [==============================] - 147s 1s/step - loss: 0.5645 - accuracy: 0.7061 - val_loss: 0.5872 - val_accuracy: 0.6727\n",
      "Epoch 68/75\n",
      "100/100 [==============================] - 147s 1s/step - loss: 0.5639 - accuracy: 0.7037 - val_loss: 0.5537 - val_accuracy: 0.7087\n",
      "Epoch 69/75\n",
      "100/100 [==============================] - 149s 1s/step - loss: 0.5642 - accuracy: 0.7110 - val_loss: 0.5574 - val_accuracy: 0.7060\n",
      "Epoch 70/75\n",
      "100/100 [==============================] - 148s 1s/step - loss: 0.5584 - accuracy: 0.7119 - val_loss: 0.5360 - val_accuracy: 0.7198\n",
      "Epoch 71/75\n",
      "100/100 [==============================] - 149s 1s/step - loss: 0.5618 - accuracy: 0.7091 - val_loss: 0.5381 - val_accuracy: 0.7194\n",
      "Epoch 72/75\n",
      "100/100 [==============================] - 148s 1s/step - loss: 0.5581 - accuracy: 0.7095 - val_loss: 0.5617 - val_accuracy: 0.7038\n",
      "Epoch 73/75\n",
      "100/100 [==============================] - 147s 1s/step - loss: 0.5599 - accuracy: 0.7059 - val_loss: 0.5333 - val_accuracy: 0.7189\n",
      "Epoch 74/75\n",
      "100/100 [==============================] - 147s 1s/step - loss: 0.5578 - accuracy: 0.7073 - val_loss: 0.5418 - val_accuracy: 0.7238\n",
      "Epoch 75/75\n",
      "100/100 [==============================] - 147s 1s/step - loss: 0.5619 - accuracy: 0.7027 - val_loss: 0.5560 - val_accuracy: 0.7118\n"
     ]
    },
    {
     "data": {
      "image/png": "[encoded data removed]",
      "text/plain": [
       "<Figure size 432x288 with 1 Axes>"
      ]
     },
     "metadata": {
      "needs_background": "light",
      "tags": []
     },
     "output_type": "display_data"
    }
   ],
   "source": [
    "history_augmented_dataset = model.fit_generator(train_augmented_iterator, steps_per_epoch=len(train_augmented_iterator), validation_data=test_augmented_iterator, validation_steps=len(test_augmented_iterator), epochs=75)\n",
    "plot_loss(history_augmented_dataset)"
   ]
  },
  {
   "cell_type": "markdown",
   "metadata": {
    "id": "wee2sliQTpGP"
   },
   "source": [
    "## Deeper Model"
   ]
  },
  {
   "cell_type": "code",
   "execution_count": null,
   "metadata": {
    "colab": {
     "base_uri": "https://localhost:8080/",
     "height": 1000
    },
    "id": "g5KDHFJJTr9A",
    "outputId": "1f734774-7797-48a8-f51e-315d50cc5a70"
   },
   "outputs": [
    {
     "name": "stdout",
     "output_type": "stream",
     "text": [
      "Model: \"sequential_1\"\n",
      "_________________________________________________________________\n",
      "Layer (type)                 Output Shape              Param #   \n",
      "=================================================================\n",
      "conv2d_1 (Conv2D)            (None, 200, 200, 32)      896       \n",
      "_________________________________________________________________\n",
      "max_pooling2d_1 (MaxPooling2 (None, 100, 100, 32)      0         \n",
      "_________________________________________________________________\n",
      "conv2d_2 (Conv2D)            (None, 100, 100, 64)      18496     \n",
      "_________________________________________________________________\n",
      "max_pooling2d_2 (MaxPooling2 (None, 50, 50, 64)        0         \n",
      "_________________________________________________________________\n",
      "conv2d_3 (Conv2D)            (None, 50, 50, 128)       73856     \n",
      "_________________________________________________________________\n",
      "max_pooling2d_3 (MaxPooling2 (None, 25, 25, 128)       0         \n",
      "_________________________________________________________________\n",
      "flatten_1 (Flatten)          (None, 80000)             0         \n",
      "_________________________________________________________________\n",
      "dense_2 (Dense)              (None, 128)               10240128  \n",
      "_________________________________________________________________\n",
      "dense_3 (Dense)              (None, 1)                 129       \n",
      "=================================================================\n",
      "Total params: 10,333,505\n",
      "Trainable params: 10,333,505\n",
      "Non-trainable params: 0\n",
      "_________________________________________________________________\n",
      "Epoch 1/75\n",
      "100/100 [==============================] - 152s 2s/step - loss: 0.6981 - accuracy: 0.5299 - val_loss: 0.7227 - val_accuracy: 0.5169\n",
      "Epoch 2/75\n",
      "100/100 [==============================] - 152s 2s/step - loss: 0.6820 - accuracy: 0.5627 - val_loss: 0.6579 - val_accuracy: 0.5959\n",
      "Epoch 3/75\n",
      "100/100 [==============================] - 151s 2s/step - loss: 0.6725 - accuracy: 0.5841 - val_loss: 0.7471 - val_accuracy: 0.5231\n",
      "Epoch 4/75\n",
      "100/100 [==============================] - 151s 2s/step - loss: 0.6645 - accuracy: 0.6048 - val_loss: 0.6554 - val_accuracy: 0.6012\n",
      "Epoch 5/75\n",
      "100/100 [==============================] - 151s 2s/step - loss: 0.6608 - accuracy: 0.6088 - val_loss: 0.6475 - val_accuracy: 0.6172\n",
      "Epoch 6/75\n",
      "100/100 [==============================] - 151s 2s/step - loss: 0.6589 - accuracy: 0.6044 - val_loss: 0.7806 - val_accuracy: 0.5364\n",
      "Epoch 7/75\n",
      "100/100 [==============================] - 151s 2s/step - loss: 0.6574 - accuracy: 0.6124 - val_loss: 0.6663 - val_accuracy: 0.6039\n",
      "Epoch 8/75\n",
      "100/100 [==============================] - 151s 2s/step - loss: 0.6536 - accuracy: 0.6160 - val_loss: 0.6233 - val_accuracy: 0.6359\n",
      "Epoch 9/75\n",
      "100/100 [==============================] - 151s 2s/step - loss: 0.6502 - accuracy: 0.6144 - val_loss: 0.6876 - val_accuracy: 0.5910\n",
      "Epoch 10/75\n",
      "100/100 [==============================] - 151s 2s/step - loss: 0.6450 - accuracy: 0.6315 - val_loss: 0.6706 - val_accuracy: 0.6004\n",
      "Epoch 11/75\n",
      "100/100 [==============================] - 151s 2s/step - loss: 0.6439 - accuracy: 0.6372 - val_loss: 0.6069 - val_accuracy: 0.6603\n",
      "Epoch 12/75\n",
      "100/100 [==============================] - 151s 2s/step - loss: 0.6378 - accuracy: 0.6441 - val_loss: 0.6115 - val_accuracy: 0.6567\n",
      "Epoch 13/75\n",
      "100/100 [==============================] - 150s 2s/step - loss: 0.6359 - accuracy: 0.6433 - val_loss: 0.6295 - val_accuracy: 0.6363\n",
      "Epoch 14/75\n",
      "100/100 [==============================] - 151s 2s/step - loss: 0.6318 - accuracy: 0.6478 - val_loss: 0.6098 - val_accuracy: 0.6625\n",
      "Epoch 15/75\n",
      "100/100 [==============================] - 150s 2s/step - loss: 0.6243 - accuracy: 0.6608 - val_loss: 0.6083 - val_accuracy: 0.6692\n",
      "Epoch 16/75\n",
      "100/100 [==============================] - 151s 2s/step - loss: 0.6217 - accuracy: 0.6604 - val_loss: 0.6494 - val_accuracy: 0.6528\n",
      "Epoch 17/75\n",
      "100/100 [==============================] - 151s 2s/step - loss: 0.6240 - accuracy: 0.6606 - val_loss: 0.5948 - val_accuracy: 0.6758\n",
      "Epoch 18/75\n",
      "100/100 [==============================] - 151s 2s/step - loss: 0.6174 - accuracy: 0.6713 - val_loss: 0.5917 - val_accuracy: 0.6807\n",
      "Epoch 19/75\n",
      "100/100 [==============================] - 151s 2s/step - loss: 0.6164 - accuracy: 0.6696 - val_loss: 0.5999 - val_accuracy: 0.6812\n",
      "Epoch 20/75\n",
      "100/100 [==============================] - 151s 2s/step - loss: 0.6100 - accuracy: 0.6768 - val_loss: 0.6260 - val_accuracy: 0.6714\n",
      "Epoch 21/75\n",
      "100/100 [==============================] - 151s 2s/step - loss: 0.6099 - accuracy: 0.6748 - val_loss: 0.6074 - val_accuracy: 0.6767\n",
      "Epoch 22/75\n",
      "100/100 [==============================] - 151s 2s/step - loss: 0.6089 - accuracy: 0.6742 - val_loss: 0.6053 - val_accuracy: 0.6772\n",
      "Epoch 23/75\n",
      "100/100 [==============================] - 151s 2s/step - loss: 0.6051 - accuracy: 0.6796 - val_loss: 0.5964 - val_accuracy: 0.6825\n",
      "Epoch 24/75\n",
      "100/100 [==============================] - 151s 2s/step - loss: 0.6099 - accuracy: 0.6804 - val_loss: 0.5990 - val_accuracy: 0.6834\n",
      "Epoch 25/75\n",
      "100/100 [==============================] - 151s 2s/step - loss: 0.5990 - accuracy: 0.6847 - val_loss: 0.6051 - val_accuracy: 0.6869\n",
      "Epoch 26/75\n",
      "100/100 [==============================] - 151s 2s/step - loss: 0.5998 - accuracy: 0.6837 - val_loss: 0.6006 - val_accuracy: 0.6914\n",
      "Epoch 27/75\n",
      "100/100 [==============================] - 151s 2s/step - loss: 0.5941 - accuracy: 0.6868 - val_loss: 0.6331 - val_accuracy: 0.6723\n",
      "Epoch 28/75\n",
      "100/100 [==============================] - 151s 2s/step - loss: 0.5976 - accuracy: 0.6913 - val_loss: 0.6286 - val_accuracy: 0.6794\n",
      "Epoch 29/75\n",
      "100/100 [==============================] - 151s 2s/step - loss: 0.5938 - accuracy: 0.6922 - val_loss: 0.6043 - val_accuracy: 0.6856\n",
      "Epoch 30/75\n",
      "100/100 [==============================] - 152s 2s/step - loss: 0.5941 - accuracy: 0.6885 - val_loss: 0.5951 - val_accuracy: 0.6838\n",
      "Epoch 31/75\n",
      "100/100 [==============================] - 151s 2s/step - loss: 0.5921 - accuracy: 0.6904 - val_loss: 0.5956 - val_accuracy: 0.6958\n",
      "Epoch 32/75\n",
      "100/100 [==============================] - 151s 2s/step - loss: 0.5916 - accuracy: 0.6893 - val_loss: 0.6088 - val_accuracy: 0.6936\n",
      "Epoch 33/75\n",
      "100/100 [==============================] - 151s 2s/step - loss: 0.5900 - accuracy: 0.6942 - val_loss: 0.5931 - val_accuracy: 0.6936\n",
      "Epoch 34/75\n",
      "100/100 [==============================] - 151s 2s/step - loss: 0.5885 - accuracy: 0.6880 - val_loss: 0.5963 - val_accuracy: 0.6887\n",
      "Epoch 35/75\n",
      "100/100 [==============================] - 151s 2s/step - loss: 0.5852 - accuracy: 0.6922 - val_loss: 0.5779 - val_accuracy: 0.6972\n",
      "Epoch 36/75\n",
      "100/100 [==============================] - 151s 2s/step - loss: 0.5828 - accuracy: 0.6936 - val_loss: 0.5825 - val_accuracy: 0.7052\n",
      "Epoch 37/75\n",
      "100/100 [==============================] - 151s 2s/step - loss: 0.5771 - accuracy: 0.7020 - val_loss: 0.6026 - val_accuracy: 0.6918\n",
      "Epoch 38/75\n",
      "100/100 [==============================] - 151s 2s/step - loss: 0.5770 - accuracy: 0.6989 - val_loss: 0.5757 - val_accuracy: 0.7069\n",
      "Epoch 39/75\n",
      "100/100 [==============================] - 151s 2s/step - loss: 0.5751 - accuracy: 0.7070 - val_loss: 0.5946 - val_accuracy: 0.7020\n",
      "Epoch 40/75\n",
      "100/100 [==============================] - 151s 2s/step - loss: 0.5742 - accuracy: 0.7006 - val_loss: 0.6014 - val_accuracy: 0.7012\n",
      "Epoch 41/75\n",
      "100/100 [==============================] - 152s 2s/step - loss: 0.5754 - accuracy: 0.7000 - val_loss: 0.5940 - val_accuracy: 0.7034\n",
      "Epoch 42/75\n",
      "100/100 [==============================] - 151s 2s/step - loss: 0.5746 - accuracy: 0.7029 - val_loss: 0.5950 - val_accuracy: 0.6985\n",
      "Epoch 43/75\n",
      "100/100 [==============================] - 151s 2s/step - loss: 0.5693 - accuracy: 0.7071 - val_loss: 0.5974 - val_accuracy: 0.7020\n",
      "Epoch 44/75\n",
      "100/100 [==============================] - 151s 2s/step - loss: 0.5656 - accuracy: 0.7101 - val_loss: 0.5946 - val_accuracy: 0.7025\n",
      "Epoch 45/75\n",
      "100/100 [==============================] - 151s 2s/step - loss: 0.5621 - accuracy: 0.7107 - val_loss: 0.5983 - val_accuracy: 0.7052\n",
      "Epoch 46/75\n",
      "100/100 [==============================] - 151s 2s/step - loss: 0.5652 - accuracy: 0.7109 - val_loss: 0.6055 - val_accuracy: 0.6958\n",
      "Epoch 47/75\n",
      "100/100 [==============================] - 151s 2s/step - loss: 0.5627 - accuracy: 0.7126 - val_loss: 0.6126 - val_accuracy: 0.7025\n",
      "Epoch 48/75\n",
      "100/100 [==============================] - 151s 2s/step - loss: 0.5640 - accuracy: 0.7104 - val_loss: 0.6309 - val_accuracy: 0.7034\n",
      "Epoch 49/75\n",
      "100/100 [==============================] - 151s 2s/step - loss: 0.5636 - accuracy: 0.7097 - val_loss: 0.6566 - val_accuracy: 0.6861\n",
      "Epoch 50/75\n",
      "100/100 [==============================] - 151s 2s/step - loss: 0.5619 - accuracy: 0.7132 - val_loss: 0.5937 - val_accuracy: 0.7052\n",
      "Epoch 51/75\n",
      "100/100 [==============================] - 151s 2s/step - loss: 0.5597 - accuracy: 0.7154 - val_loss: 0.5785 - val_accuracy: 0.7114\n",
      "Epoch 52/75\n",
      "100/100 [==============================] - 151s 2s/step - loss: 0.5578 - accuracy: 0.7176 - val_loss: 0.5808 - val_accuracy: 0.7074\n",
      "Epoch 53/75\n",
      "100/100 [==============================] - 151s 2s/step - loss: 0.5530 - accuracy: 0.7219 - val_loss: 0.5940 - val_accuracy: 0.7020\n",
      "Epoch 54/75\n",
      "100/100 [==============================] - 151s 2s/step - loss: 0.5561 - accuracy: 0.7179 - val_loss: 0.6475 - val_accuracy: 0.6976\n",
      "Epoch 55/75\n",
      "100/100 [==============================] - 151s 2s/step - loss: 0.5601 - accuracy: 0.7128 - val_loss: 0.5693 - val_accuracy: 0.7163\n",
      "Epoch 56/75\n",
      "100/100 [==============================] - 150s 2s/step - loss: 0.5511 - accuracy: 0.7186 - val_loss: 0.6382 - val_accuracy: 0.6976\n",
      "Epoch 57/75\n",
      "100/100 [==============================] - 151s 2s/step - loss: 0.5570 - accuracy: 0.7135 - val_loss: 0.5767 - val_accuracy: 0.7207\n",
      "Epoch 58/75\n",
      "100/100 [==============================] - 151s 2s/step - loss: 0.5509 - accuracy: 0.7186 - val_loss: 0.6000 - val_accuracy: 0.7109\n",
      "Epoch 59/75\n",
      "100/100 [==============================] - 151s 2s/step - loss: 0.5480 - accuracy: 0.7233 - val_loss: 0.5436 - val_accuracy: 0.7282\n",
      "Epoch 60/75\n",
      "100/100 [==============================] - 151s 2s/step - loss: 0.5528 - accuracy: 0.7194 - val_loss: 0.5675 - val_accuracy: 0.7189\n",
      "Epoch 61/75\n",
      "100/100 [==============================] - 151s 2s/step - loss: 0.5444 - accuracy: 0.7228 - val_loss: 0.5554 - val_accuracy: 0.7202\n",
      "Epoch 62/75\n",
      "100/100 [==============================] - 151s 2s/step - loss: 0.5524 - accuracy: 0.7193 - val_loss: 0.5352 - val_accuracy: 0.7358\n",
      "Epoch 63/75\n",
      "100/100 [==============================] - 151s 2s/step - loss: 0.5437 - accuracy: 0.7282 - val_loss: 0.5848 - val_accuracy: 0.7189\n",
      "Epoch 64/75\n",
      "100/100 [==============================] - 151s 2s/step - loss: 0.5443 - accuracy: 0.7279 - val_loss: 0.5581 - val_accuracy: 0.7158\n",
      "Epoch 65/75\n",
      "100/100 [==============================] - 151s 2s/step - loss: 0.5431 - accuracy: 0.7274 - val_loss: 0.5441 - val_accuracy: 0.7300\n",
      "Epoch 66/75\n",
      "100/100 [==============================] - 150s 2s/step - loss: 0.5443 - accuracy: 0.7268 - val_loss: 0.5738 - val_accuracy: 0.7260\n",
      "Epoch 67/75\n",
      "100/100 [==============================] - 151s 2s/step - loss: 0.5420 - accuracy: 0.7225 - val_loss: 0.5503 - val_accuracy: 0.7274\n",
      "Epoch 68/75\n",
      "100/100 [==============================] - 151s 2s/step - loss: 0.5458 - accuracy: 0.7244 - val_loss: 0.5636 - val_accuracy: 0.7282\n",
      "Epoch 69/75\n",
      "100/100 [==============================] - 151s 2s/step - loss: 0.5371 - accuracy: 0.7311 - val_loss: 0.5335 - val_accuracy: 0.7362\n",
      "Epoch 70/75\n",
      "100/100 [==============================] - 151s 2s/step - loss: 0.5370 - accuracy: 0.7266 - val_loss: 0.5347 - val_accuracy: 0.7309\n",
      "Epoch 71/75\n",
      "100/100 [==============================] - 152s 2s/step - loss: 0.5378 - accuracy: 0.7321 - val_loss: 0.5406 - val_accuracy: 0.7256\n",
      "Epoch 72/75\n",
      "100/100 [==============================] - 152s 2s/step - loss: 0.5364 - accuracy: 0.7316 - val_loss: 0.5443 - val_accuracy: 0.7318\n",
      "Epoch 73/75\n",
      "100/100 [==============================] - 152s 2s/step - loss: 0.5392 - accuracy: 0.7268 - val_loss: 0.5735 - val_accuracy: 0.7096\n",
      "Epoch 74/75\n",
      "100/100 [==============================] - 151s 2s/step - loss: 0.5339 - accuracy: 0.7309 - val_loss: 0.5484 - val_accuracy: 0.7305\n",
      "Epoch 75/75\n",
      "100/100 [==============================] - 151s 2s/step - loss: 0.5344 - accuracy: 0.7274 - val_loss: 0.5242 - val_accuracy: 0.7389\n"
     ]
    },
    {
     "data": {
      "image/png": "[encoded data removed]",
      "text/plain": [
       "<Figure size 432x288 with 1 Axes>"
      ]
     },
     "metadata": {
      "needs_background": "light",
      "tags": []
     },
     "output_type": "display_data"
    }
   ],
   "source": [
    "'''\n",
    "Deeper CNN\n",
    "'''\n",
    "deeper_model = Sequential()\n",
    "\n",
    "# Convolution layer yang lebih dalam\n",
    "deeper_model.add(Conv2D(32, (3, 3), activation='relu', kernel_initializer='he_uniform', padding='same', input_shape=(200, 200, 3)))\n",
    "deeper_model.add(MaxPooling2D((2, 2)))\n",
    "deeper_model.add(Conv2D(64, (3, 3), activation='relu', kernel_initializer='he_uniform', padding='same', input_shape=(200, 200, 3)))\n",
    "deeper_model.add(MaxPooling2D((2, 2)))\n",
    "deeper_model.add(Conv2D(128, (3, 3), activation='relu', kernel_initializer='he_uniform', padding='same', input_shape=(200, 200, 3)))\n",
    "deeper_model.add(MaxPooling2D((2, 2)))\n",
    "\n",
    "deeper_model.add(Flatten())\n",
    "\n",
    "deeper_model.add(Dense(128, activation='relu', kernel_initializer='he_uniform'))\n",
    "deeper_model.add(Dense(1, activation='sigmoid'))\n",
    "\n",
    "opt = SGD(lr=0.001, momentum=0.9)\n",
    "\n",
    "deeper_model.compile(optimizer=opt, loss='binary_crossentropy', metrics=['accuracy'])\n",
    "\n",
    "deeper_model.summary()\n",
    "\n",
    "history_deeper_model = deeper_model.fit_generator(train_augmented_iterator, steps_per_epoch=len(train_augmented_iterator), validation_data=test_augmented_iterator, validation_steps=len(test_augmented_iterator), epochs=75)\n",
    "plot_loss(history_deeper_model)"
   ]
  },
  {
   "cell_type": "markdown",
   "metadata": {
    "id": "6rLJvnq-t7js"
   },
   "source": [
    "## Kesimpulan\n",
    "Hasil akurasi yang diperoleh tidak jauh berbeda antara ketika data sudah diaugmentasi dengan data baseline cnn model. Namun kalau kita perhatikan nilai val loss pada base model yang belum di augmentasi semakin tinggi seiring meningkatnya epoch. Berbeda dengan setelah dilakukan augmentasi, nilai akurasi mirip dengan basemodel, tetapi nilai validation lossnya semakin menurun seiring meningkatnya epoch (model semakin bagus) tetapi belum stabil. Mungkin apabila epoch semakin tinggi akan ditemukan sweetspot dari grafik loss vs epoch.\n",
    "Untuk data ketika dilakukan deeper modelling, hasil akurasi yang diperoleh pada epoch kecil tergolong rendah, namun secara perlahan mengalami kenaikan. Nilai akurasi tertinggi diperoleh pada epoch ke 75, dengan akurasi 0.73, lebih tinggi dibandingkan basemodel dan ketika data sudah diaugmentasi. Model tidak cenderung overfit."
   ]
  }
 ],
 "metadata": {
  "colab": {
   "collapsed_sections": [],
   "name": "Assignment15_Togi_No.1.ipynb",
   "provenance": []
  },
  "kernelspec": {
   "display_name": "Python 3",
   "language": "python",
   "name": "python3"
  },
  "language_info": {
   "codemirror_mode": {
    "name": "ipython",
    "version": 3
   },
   "file_extension": ".py",
   "mimetype": "text/x-python",
   "name": "python",
   "nbconvert_exporter": "python",
   "pygments_lexer": "ipython3",
   "version": "3.8.5"
  }
 },
 "nbformat": 4,
 "nbformat_minor": 1
}
