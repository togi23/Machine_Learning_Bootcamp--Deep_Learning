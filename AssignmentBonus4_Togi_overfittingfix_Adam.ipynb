{
  "nbformat": 4,
  "nbformat_minor": 0,
  "metadata": {
    "accelerator": "GPU",
    "colab": {
      "name": "AssignmentBonus4_Togi_overfittingfix_Adam_OverfitFix.ipynb",
      "provenance": [],
      "collapsed_sections": []
    },
    "kernelspec": {
      "display_name": "Python 3",
      "language": "python",
      "name": "python3"
    },
    "language_info": {
      "codemirror_mode": {
        "name": "ipython",
        "version": 3
      },
      "file_extension": ".py",
      "mimetype": "text/x-python",
      "name": "python",
      "nbconvert_exporter": "python",
      "pygments_lexer": "ipython3",
      "version": "3.8.5"
    }
  },
  "cells": [
    {
      "cell_type": "code",
      "metadata": {
        "id": "Dy9k_b4YH6t6",
        "outputId": "6e2c2ef1-9749-46a6-accc-44caa7570478",
        "colab": {
          "base_uri": "https://localhost:8080/",
          "height": 35
        }
      },
      "source": [
        "zip_path = '/content/drive/My\\ Drive/Deep_Learning/santa-dataset.zip'\n",
        "!cp {zip_path} /content/\n",
        "!cd /content/\n",
        "!unzip -q /content/santa-dataset.zip -d /content\n",
        "!rm /content/santa-dataset.zip"
      ],
      "execution_count": null,
      "outputs": [
        {
          "output_type": "stream",
          "text": [
            "replace /content/santa-dataset/.DS_Store? [y]es, [n]o, [A]ll, [N]one, [r]ename: A\n"
          ],
          "name": "stdout"
        }
      ]
    },
    {
      "cell_type": "code",
      "metadata": {
        "id": "fNcl7W5JIR-G"
      },
      "source": [
        "import os\n",
        "import numpy as np\n",
        "import matplotlib.pyplot as plt"
      ],
      "execution_count": null,
      "outputs": []
    },
    {
      "cell_type": "code",
      "metadata": {
        "id": "hmluWn61ITf8"
      },
      "source": [
        "def plot_loss(history):\n",
        "  plt.plot(history.history['loss'], label='loss')\n",
        "  plt.plot(history.history['val_loss'], label='val_loss')\n",
        "  plt.xlabel('Epoch')\n",
        "  plt.ylabel('Loss')\n",
        "  plt.legend()\n",
        "  plt.grid(True)"
      ],
      "execution_count": null,
      "outputs": []
    },
    {
      "cell_type": "markdown",
      "metadata": {
        "id": "DZk3DEeUIs4T"
      },
      "source": [
        "# Deeper Model CNN"
      ]
    },
    {
      "cell_type": "code",
      "metadata": {
        "id": "10CGlivYJWqK"
      },
      "source": [
        "np.random.seed(0)\n",
        "#Libraries\n",
        "from tensorflow.keras.models import Sequential\n",
        "from tensorflow.keras.layers import Conv2D, MaxPooling2D, Dense, Flatten, Dropout\n",
        "from tensorflow.keras.optimizers import Adam\n",
        "from tensorflow.keras.preprocessing.image import ImageDataGenerator\n",
        "from tensorflow.keras.callbacks import EarlyStopping"
      ],
      "execution_count": null,
      "outputs": []
    },
    {
      "cell_type": "code",
      "metadata": {
        "id": "7CPL1XoYKIJK",
        "outputId": "e6c121de-c508-4fb9-df25-44972a545ea7",
        "colab": {
          "base_uri": "https://localhost:8080/",
          "height": 531
        }
      },
      "source": [
        "deeper_model = Sequential()\n",
        "\n",
        "deeper_model.add(Conv2D(32, (3, 3), activation='relu', kernel_initializer='he_uniform', padding='same', input_shape=(300, 300, 3)))\n",
        "deeper_model.add(MaxPooling2D((2, 2)))\n",
        "deeper_model.add(Conv2D(64, (3, 3), activation='relu', kernel_initializer='he_uniform', padding='same', input_shape=(300, 300, 3)))\n",
        "deeper_model.add(MaxPooling2D((2, 2)))\n",
        "deeper_model.add(Conv2D(128, (3, 3), activation='relu', kernel_initializer='he_uniform', padding='same', input_shape=(300, 300, 3)))\n",
        "deeper_model.add(MaxPooling2D((2, 2)))\n",
        "\n",
        "deeper_model.add(Flatten())\n",
        "\n",
        "deeper_model.add(Dense(128, activation='relu', kernel_initializer='he_uniform'))\n",
        "deeper_model.add(Dropout(0.7))\n",
        "\n",
        "deeper_model.add(Dense(1, activation='sigmoid'))\n",
        "\n",
        "opt = Adam(lr=0.001)\n",
        "\n",
        "deeper_model.compile(optimizer=opt, loss='binary_crossentropy', metrics=['accuracy'])\n",
        "\n",
        "deeper_model.summary()"
      ],
      "execution_count": null,
      "outputs": [
        {
          "output_type": "stream",
          "text": [
            "Model: \"sequential\"\n",
            "_________________________________________________________________\n",
            "Layer (type)                 Output Shape              Param #   \n",
            "=================================================================\n",
            "conv2d (Conv2D)              (None, 300, 300, 32)      896       \n",
            "_________________________________________________________________\n",
            "max_pooling2d (MaxPooling2D) (None, 150, 150, 32)      0         \n",
            "_________________________________________________________________\n",
            "conv2d_1 (Conv2D)            (None, 150, 150, 64)      18496     \n",
            "_________________________________________________________________\n",
            "max_pooling2d_1 (MaxPooling2 (None, 75, 75, 64)        0         \n",
            "_________________________________________________________________\n",
            "conv2d_2 (Conv2D)            (None, 75, 75, 128)       73856     \n",
            "_________________________________________________________________\n",
            "max_pooling2d_2 (MaxPooling2 (None, 37, 37, 128)       0         \n",
            "_________________________________________________________________\n",
            "flatten (Flatten)            (None, 175232)            0         \n",
            "_________________________________________________________________\n",
            "dense (Dense)                (None, 128)               22429824  \n",
            "_________________________________________________________________\n",
            "dropout (Dropout)            (None, 128)               0         \n",
            "_________________________________________________________________\n",
            "dense_1 (Dense)              (None, 1)                 129       \n",
            "=================================================================\n",
            "Total params: 22,523,201\n",
            "Trainable params: 22,523,201\n",
            "Non-trainable params: 0\n",
            "_________________________________________________________________\n"
          ],
          "name": "stdout"
        }
      ]
    },
    {
      "cell_type": "code",
      "metadata": {
        "id": "fn78ig4mLRPQ"
      },
      "source": [
        "train_datagen = ImageDataGenerator(rescale=1.0/255.0, width_shift_range=0.1, height_shift_range=0.1, horizontal_flip=True)\n",
        "test_datagen = ImageDataGenerator(rescale=1.0/255.0)"
      ],
      "execution_count": null,
      "outputs": []
    },
    {
      "cell_type": "code",
      "metadata": {
        "id": "QCyGY1TRLUaa",
        "outputId": "c49e852a-2dd9-4014-9a93-411c476d8890",
        "colab": {
          "base_uri": "https://localhost:8080/",
          "height": 54
        }
      },
      "source": [
        "dataset_dir = '/content/santa-dataset/'\n",
        "\n",
        "train_augmented_iterator = train_datagen.flow_from_directory(os.path.join(dataset_dir, 'train'), class_mode='binary', batch_size=128, target_size=(300, 300))\n",
        "test_augmented_iterator = test_datagen.flow_from_directory(os.path.join(dataset_dir, 'test'), class_mode='binary', batch_size=128, target_size=(300, 300))"
      ],
      "execution_count": null,
      "outputs": [
        {
          "output_type": "stream",
          "text": [
            "Found 662 images belonging to 2 classes.\n",
            "Found 260 images belonging to 2 classes.\n"
          ],
          "name": "stdout"
        }
      ]
    },
    {
      "cell_type": "code",
      "metadata": {
        "id": "QR6CuJYvLg0N",
        "outputId": "3d39327a-7525-4dbe-91eb-3b392ff41ae9",
        "colab": {
          "base_uri": "https://localhost:8080/",
          "height": 1000
        }
      },
      "source": [
        "es_callback = EarlyStopping(monitor='val_loss', patience=5)\n",
        "\n",
        "history_augmented_dataset = deeper_model.fit_generator(train_augmented_iterator, steps_per_epoch=len(train_augmented_iterator), validation_data=test_augmented_iterator, validation_steps=len(test_augmented_iterator), epochs=100, callbacks=es_callback)\n",
        "plot_loss(history_augmented_dataset)"
      ],
      "execution_count": null,
      "outputs": [
        {
          "output_type": "stream",
          "text": [
            "WARNING:tensorflow:From <ipython-input-8-b70d72c04965>:3: Model.fit_generator (from tensorflow.python.keras.engine.training) is deprecated and will be removed in a future version.\n",
            "Instructions for updating:\n",
            "Please use Model.fit, which supports generators.\n",
            "Epoch 1/100\n",
            "6/6 [==============================] - 23s 4s/step - loss: 14.2369 - accuracy: 0.4894 - val_loss: 0.4940 - val_accuracy: 0.8077\n",
            "Epoch 2/100\n",
            "6/6 [==============================] - 24s 4s/step - loss: 0.5796 - accuracy: 0.7613 - val_loss: 0.5541 - val_accuracy: 0.8577\n",
            "Epoch 3/100\n",
            "6/6 [==============================] - 21s 3s/step - loss: 0.4958 - accuracy: 0.8429 - val_loss: 0.4785 - val_accuracy: 0.8538\n",
            "Epoch 4/100\n",
            "6/6 [==============================] - 20s 3s/step - loss: 0.4648 - accuracy: 0.8353 - val_loss: 0.4219 - val_accuracy: 0.8808\n",
            "Epoch 5/100\n",
            "6/6 [==============================] - 20s 3s/step - loss: 0.3841 - accuracy: 0.8580 - val_loss: 0.4360 - val_accuracy: 0.8769\n",
            "Epoch 6/100\n",
            "6/6 [==============================] - 21s 4s/step - loss: 0.3641 - accuracy: 0.8912 - val_loss: 0.3911 - val_accuracy: 0.8769\n",
            "Epoch 7/100\n",
            "6/6 [==============================] - 20s 3s/step - loss: 0.3127 - accuracy: 0.8958 - val_loss: 0.3615 - val_accuracy: 0.8846\n",
            "Epoch 8/100\n",
            "6/6 [==============================] - 24s 4s/step - loss: 0.3571 - accuracy: 0.8716 - val_loss: 0.3294 - val_accuracy: 0.8962\n",
            "Epoch 9/100\n",
            "6/6 [==============================] - 21s 4s/step - loss: 0.3210 - accuracy: 0.8943 - val_loss: 0.3611 - val_accuracy: 0.9000\n",
            "Epoch 10/100\n",
            "6/6 [==============================] - 24s 4s/step - loss: 0.3463 - accuracy: 0.8943 - val_loss: 0.3186 - val_accuracy: 0.9115\n",
            "Epoch 11/100\n",
            "6/6 [==============================] - 21s 4s/step - loss: 0.2718 - accuracy: 0.9003 - val_loss: 0.3375 - val_accuracy: 0.9077\n",
            "Epoch 12/100\n",
            "6/6 [==============================] - 21s 3s/step - loss: 0.2441 - accuracy: 0.9139 - val_loss: 0.3069 - val_accuracy: 0.9077\n",
            "Epoch 13/100\n",
            "6/6 [==============================] - 24s 4s/step - loss: 0.2565 - accuracy: 0.9018 - val_loss: 0.2821 - val_accuracy: 0.9115\n",
            "Epoch 14/100\n",
            "6/6 [==============================] - 19s 3s/step - loss: 0.2086 - accuracy: 0.9139 - val_loss: 0.3424 - val_accuracy: 0.8962\n",
            "Epoch 15/100\n",
            "6/6 [==============================] - 20s 3s/step - loss: 0.2915 - accuracy: 0.9003 - val_loss: 0.4874 - val_accuracy: 0.8654\n",
            "Epoch 16/100\n",
            "6/6 [==============================] - 20s 3s/step - loss: 0.3924 - accuracy: 0.8565 - val_loss: 0.3917 - val_accuracy: 0.8769\n",
            "Epoch 17/100\n",
            "6/6 [==============================] - 24s 4s/step - loss: 0.3152 - accuracy: 0.9109 - val_loss: 0.3572 - val_accuracy: 0.8846\n",
            "Epoch 18/100\n",
            "6/6 [==============================] - 21s 4s/step - loss: 0.2676 - accuracy: 0.9018 - val_loss: 0.4214 - val_accuracy: 0.9038\n"
          ],
          "name": "stdout"
        },
        {
          "output_type": "display_data",
          "data": {
            "image/png": "[encoded data removed]",
            "text/plain": [
              "<Figure size 432x288 with 1 Axes>"
            ]
          },
          "metadata": {
            "tags": [],
            "needs_background": "light"
          }
        }
      ]
    },
    {
      "cell_type": "markdown",
      "metadata": {
        "id": "RQQOF5ykCfKC"
      },
      "source": [
        "# Kesimpulan\n",
        "Overfitting pada percobaan sebelumnya diperbaiki dengan menambahkan layer dropout serta menggunakan early stopping. Plot grafik loss dan val_loss vs epoch sudah menunjukkan pengurangan overfitting dari model yang sebelumnya, tetapi nilai akurasi berkurang. Hasil terbaik diperoleh pada epoch ke-13 dengan val_loss 0.2881 serta val_accuracy 0.9115"
      ]
    }
  ]
}