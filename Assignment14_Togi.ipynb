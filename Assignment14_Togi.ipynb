{
 "cells": [
  {
   "cell_type": "markdown",
   "metadata": {
    "id": "RMTUhfw2EXF-"
   },
   "source": [
    "# Nomor 1"
   ]
  },
  {
   "cell_type": "code",
   "execution_count": 1,
   "metadata": {
    "id": "ldEX0jU44lCC"
   },
   "outputs": [],
   "source": [
    "from tensorflow.keras.datasets import fashion_mnist\n",
    "import matplotlib.pyplot as plt\n",
    "import pandas as pd"
   ]
  },
  {
   "cell_type": "code",
   "execution_count": 2,
   "metadata": {
    "colab": {
     "base_uri": "https://localhost:8080/",
     "height": 467
    },
    "id": "MOnX5Di9_4P0",
    "outputId": "356556a0-c37f-4cf6-ae72-409c1f3e268d"
   },
   "outputs": [
    {
     "name": "stdout",
     "output_type": "stream",
     "text": [
      "Downloading data from https://storage.googleapis.com/tensorflow/tf-keras-datasets/train-labels-idx1-ubyte.gz\n",
      "32768/29515 [=================================] - 0s 0us/step\n",
      "Downloading data from https://storage.googleapis.com/tensorflow/tf-keras-datasets/train-images-idx3-ubyte.gz\n",
      "26427392/26421880 [==============================] - 0s 0us/step\n",
      "Downloading data from https://storage.googleapis.com/tensorflow/tf-keras-datasets/t10k-labels-idx1-ubyte.gz\n",
      "8192/5148 [===============================================] - 0s 0us/step\n",
      "Downloading data from https://storage.googleapis.com/tensorflow/tf-keras-datasets/t10k-images-idx3-ubyte.gz\n",
      "4423680/4422102 [==============================] - 0s 0us/step\n",
      "Train (60000, 28, 28) (60000,)\n",
      "Test (10000, 28, 28) (10000,)\n"
     ]
    },
    {
     "data": {
      "text/plain": [
       "<matplotlib.image.AxesImage at 0x7f3e430acb00>"
      ]
     },
     "execution_count": 2,
     "metadata": {
      "tags": []
     },
     "output_type": "execute_result"
    },
    {
     "data": {
      "image/png": "[encoded data removed]",
      "text/plain": [
       "<Figure size 432x288 with 1 Axes>"
      ]
     },
     "metadata": {
      "needs_background": "light",
      "tags": []
     },
     "output_type": "display_data"
    }
   ],
   "source": [
    "(feature_train, label_train), (feature_test, label_test) = fashion_mnist.load_data()\n",
    "\n",
    "print(\"Train\", feature_train.shape, label_train.shape)\n",
    "print(\"Test\", feature_test.shape, label_test.shape)\n",
    "\n",
    "plt.imshow(feature_train[100], cmap=plt.get_cmap('gray'))"
   ]
  },
  {
   "cell_type": "markdown",
   "metadata": {
    "id": "XvaQUFb1AQXE"
   },
   "source": [
    "## Feature Engineering"
   ]
  },
  {
   "cell_type": "code",
   "execution_count": 3,
   "metadata": {
    "id": "yhg8HFB1AS7o"
   },
   "outputs": [],
   "source": [
    "feature_train = feature_train.reshape((feature_train.shape[0], 28, 28, 1))\n",
    "feature_test = feature_test.reshape((feature_test.shape[0], 28, 28, 1))"
   ]
  },
  {
   "cell_type": "code",
   "execution_count": 4,
   "metadata": {
    "colab": {
     "base_uri": "https://localhost:8080/",
     "height": 35
    },
    "id": "zEEEsD8GAWqI",
    "outputId": "2e807ff0-8f3e-4e23-d52a-acdcfdc572ba"
   },
   "outputs": [
    {
     "name": "stdout",
     "output_type": "stream",
     "text": [
      "(60000, 28, 28, 1)\n"
     ]
    }
   ],
   "source": [
    "print(feature_train.shape)"
   ]
  },
  {
   "cell_type": "code",
   "execution_count": 5,
   "metadata": {
    "colab": {
     "base_uri": "https://localhost:8080/",
     "height": 146
    },
    "id": "Zoi8zvWzAbm7",
    "outputId": "50538ed3-6efe-43ae-a655-144d1cb68c63"
   },
   "outputs": [
    {
     "name": "stdout",
     "output_type": "stream",
     "text": [
      "[[0. 0. 0. ... 0. 0. 1.]\n",
      " [1. 0. 0. ... 0. 0. 0.]\n",
      " [1. 0. 0. ... 0. 0. 0.]\n",
      " ...\n",
      " [0. 0. 0. ... 0. 0. 0.]\n",
      " [1. 0. 0. ... 0. 0. 0.]\n",
      " [0. 0. 0. ... 0. 0. 0.]]\n"
     ]
    }
   ],
   "source": [
    "from tensorflow.keras.utils import to_categorical\n",
    "\n",
    "label_train = to_categorical(label_train)\n",
    "label_test = to_categorical(label_test)\n",
    "\n",
    "print(label_train)"
   ]
  },
  {
   "cell_type": "code",
   "execution_count": 6,
   "metadata": {
    "id": "hVmQWMZbAjca"
   },
   "outputs": [],
   "source": [
    "feature_train = feature_train.astype('float32')\n",
    "feature_test = feature_test.astype('float32')\n",
    "\n",
    "feature_train = feature_train / 255.0\n",
    "feature_test = feature_test / 255.0"
   ]
  },
  {
   "cell_type": "code",
   "execution_count": 7,
   "metadata": {
    "colab": {
     "base_uri": "https://localhost:8080/",
     "height": 1000
    },
    "id": "gvgDYdVAAmDy",
    "outputId": "faad45fb-69e5-409f-f749-4a99fea2831e"
   },
   "outputs": [
    {
     "data": {
      "text/plain": [
       "array([[[[0.],\n",
       "         [0.],\n",
       "         [0.],\n",
       "         ...,\n",
       "         [0.],\n",
       "         [0.],\n",
       "         [0.]],\n",
       "\n",
       "        [[0.],\n",
       "         [0.],\n",
       "         [0.],\n",
       "         ...,\n",
       "         [0.],\n",
       "         [0.],\n",
       "         [0.]],\n",
       "\n",
       "        [[0.],\n",
       "         [0.],\n",
       "         [0.],\n",
       "         ...,\n",
       "         [0.],\n",
       "         [0.],\n",
       "         [0.]],\n",
       "\n",
       "        ...,\n",
       "\n",
       "        [[0.],\n",
       "         [0.],\n",
       "         [0.],\n",
       "         ...,\n",
       "         [0.],\n",
       "         [0.],\n",
       "         [0.]],\n",
       "\n",
       "        [[0.],\n",
       "         [0.],\n",
       "         [0.],\n",
       "         ...,\n",
       "         [0.],\n",
       "         [0.],\n",
       "         [0.]],\n",
       "\n",
       "        [[0.],\n",
       "         [0.],\n",
       "         [0.],\n",
       "         ...,\n",
       "         [0.],\n",
       "         [0.],\n",
       "         [0.]]],\n",
       "\n",
       "\n",
       "       [[[0.],\n",
       "         [0.],\n",
       "         [0.],\n",
       "         ...,\n",
       "         [0.],\n",
       "         [0.],\n",
       "         [0.]],\n",
       "\n",
       "        [[0.],\n",
       "         [0.],\n",
       "         [0.],\n",
       "         ...,\n",
       "         [0.],\n",
       "         [0.],\n",
       "         [0.]],\n",
       "\n",
       "        [[0.],\n",
       "         [0.],\n",
       "         [0.],\n",
       "         ...,\n",
       "         [0.],\n",
       "         [0.],\n",
       "         [0.]],\n",
       "\n",
       "        ...,\n",
       "\n",
       "        [[0.],\n",
       "         [0.],\n",
       "         [0.],\n",
       "         ...,\n",
       "         [0.],\n",
       "         [0.],\n",
       "         [0.]],\n",
       "\n",
       "        [[0.],\n",
       "         [0.],\n",
       "         [0.],\n",
       "         ...,\n",
       "         [0.],\n",
       "         [0.],\n",
       "         [0.]],\n",
       "\n",
       "        [[0.],\n",
       "         [0.],\n",
       "         [0.],\n",
       "         ...,\n",
       "         [0.],\n",
       "         [0.],\n",
       "         [0.]]],\n",
       "\n",
       "\n",
       "       [[[0.],\n",
       "         [0.],\n",
       "         [0.],\n",
       "         ...,\n",
       "         [0.],\n",
       "         [0.],\n",
       "         [0.]],\n",
       "\n",
       "        [[0.],\n",
       "         [0.],\n",
       "         [0.],\n",
       "         ...,\n",
       "         [0.],\n",
       "         [0.],\n",
       "         [0.]],\n",
       "\n",
       "        [[0.],\n",
       "         [0.],\n",
       "         [0.],\n",
       "         ...,\n",
       "         [0.],\n",
       "         [0.],\n",
       "         [0.]],\n",
       "\n",
       "        ...,\n",
       "\n",
       "        [[0.],\n",
       "         [0.],\n",
       "         [0.],\n",
       "         ...,\n",
       "         [0.],\n",
       "         [0.],\n",
       "         [0.]],\n",
       "\n",
       "        [[0.],\n",
       "         [0.],\n",
       "         [0.],\n",
       "         ...,\n",
       "         [0.],\n",
       "         [0.],\n",
       "         [0.]],\n",
       "\n",
       "        [[0.],\n",
       "         [0.],\n",
       "         [0.],\n",
       "         ...,\n",
       "         [0.],\n",
       "         [0.],\n",
       "         [0.]]],\n",
       "\n",
       "\n",
       "       ...,\n",
       "\n",
       "\n",
       "       [[[0.],\n",
       "         [0.],\n",
       "         [0.],\n",
       "         ...,\n",
       "         [0.],\n",
       "         [0.],\n",
       "         [0.]],\n",
       "\n",
       "        [[0.],\n",
       "         [0.],\n",
       "         [0.],\n",
       "         ...,\n",
       "         [0.],\n",
       "         [0.],\n",
       "         [0.]],\n",
       "\n",
       "        [[0.],\n",
       "         [0.],\n",
       "         [0.],\n",
       "         ...,\n",
       "         [0.],\n",
       "         [0.],\n",
       "         [0.]],\n",
       "\n",
       "        ...,\n",
       "\n",
       "        [[0.],\n",
       "         [0.],\n",
       "         [0.],\n",
       "         ...,\n",
       "         [0.],\n",
       "         [0.],\n",
       "         [0.]],\n",
       "\n",
       "        [[0.],\n",
       "         [0.],\n",
       "         [0.],\n",
       "         ...,\n",
       "         [0.],\n",
       "         [0.],\n",
       "         [0.]],\n",
       "\n",
       "        [[0.],\n",
       "         [0.],\n",
       "         [0.],\n",
       "         ...,\n",
       "         [0.],\n",
       "         [0.],\n",
       "         [0.]]],\n",
       "\n",
       "\n",
       "       [[[0.],\n",
       "         [0.],\n",
       "         [0.],\n",
       "         ...,\n",
       "         [0.],\n",
       "         [0.],\n",
       "         [0.]],\n",
       "\n",
       "        [[0.],\n",
       "         [0.],\n",
       "         [0.],\n",
       "         ...,\n",
       "         [0.],\n",
       "         [0.],\n",
       "         [0.]],\n",
       "\n",
       "        [[0.],\n",
       "         [0.],\n",
       "         [0.],\n",
       "         ...,\n",
       "         [0.],\n",
       "         [0.],\n",
       "         [0.]],\n",
       "\n",
       "        ...,\n",
       "\n",
       "        [[0.],\n",
       "         [0.],\n",
       "         [0.],\n",
       "         ...,\n",
       "         [0.],\n",
       "         [0.],\n",
       "         [0.]],\n",
       "\n",
       "        [[0.],\n",
       "         [0.],\n",
       "         [0.],\n",
       "         ...,\n",
       "         [0.],\n",
       "         [0.],\n",
       "         [0.]],\n",
       "\n",
       "        [[0.],\n",
       "         [0.],\n",
       "         [0.],\n",
       "         ...,\n",
       "         [0.],\n",
       "         [0.],\n",
       "         [0.]]],\n",
       "\n",
       "\n",
       "       [[[0.],\n",
       "         [0.],\n",
       "         [0.],\n",
       "         ...,\n",
       "         [0.],\n",
       "         [0.],\n",
       "         [0.]],\n",
       "\n",
       "        [[0.],\n",
       "         [0.],\n",
       "         [0.],\n",
       "         ...,\n",
       "         [0.],\n",
       "         [0.],\n",
       "         [0.]],\n",
       "\n",
       "        [[0.],\n",
       "         [0.],\n",
       "         [0.],\n",
       "         ...,\n",
       "         [0.],\n",
       "         [0.],\n",
       "         [0.]],\n",
       "\n",
       "        ...,\n",
       "\n",
       "        [[0.],\n",
       "         [0.],\n",
       "         [0.],\n",
       "         ...,\n",
       "         [0.],\n",
       "         [0.],\n",
       "         [0.]],\n",
       "\n",
       "        [[0.],\n",
       "         [0.],\n",
       "         [0.],\n",
       "         ...,\n",
       "         [0.],\n",
       "         [0.],\n",
       "         [0.]],\n",
       "\n",
       "        [[0.],\n",
       "         [0.],\n",
       "         [0.],\n",
       "         ...,\n",
       "         [0.],\n",
       "         [0.],\n",
       "         [0.]]]], dtype=float32)"
      ]
     },
     "execution_count": 7,
     "metadata": {
      "tags": []
     },
     "output_type": "execute_result"
    }
   ],
   "source": [
    "feature_train"
   ]
  },
  {
   "cell_type": "code",
   "execution_count": 8,
   "metadata": {
    "id": "soLbdHgAAqFh"
   },
   "outputs": [],
   "source": [
    "from tensorflow.keras.models import Sequential\n",
    "from tensorflow.keras.layers import Conv2D\n",
    "from tensorflow.keras.layers import MaxPooling2D\n",
    "from tensorflow.keras.layers import Dense\n",
    "from tensorflow.keras.layers import Flatten\n",
    "from tensorflow.keras.optimizers import SGD\n",
    "from tensorflow.keras.layers import BatchNormalization"
   ]
  },
  {
   "cell_type": "markdown",
   "metadata": {
    "id": "XV2CeyRjAywA"
   },
   "source": [
    "## Multilayer Perceptron"
   ]
  },
  {
   "cell_type": "code",
   "execution_count": 9,
   "metadata": {
    "colab": {
     "base_uri": "https://localhost:8080/",
     "height": 661
    },
    "id": "27F_Eb9iA3ZE",
    "outputId": "6fee4b73-96f6-4b18-b0b4-6fb19ee14bb1"
   },
   "outputs": [
    {
     "name": "stdout",
     "output_type": "stream",
     "text": [
      "Model: \"sequential\"\n",
      "_________________________________________________________________\n",
      "Layer (type)                 Output Shape              Param #   \n",
      "=================================================================\n",
      "flatten (Flatten)            (None, 784)               0         \n",
      "_________________________________________________________________\n",
      "dense (Dense)                (None, 128)               100480    \n",
      "_________________________________________________________________\n",
      "dense_1 (Dense)              (None, 10)                1290      \n",
      "=================================================================\n",
      "Total params: 101,770\n",
      "Trainable params: 101,770\n",
      "Non-trainable params: 0\n",
      "_________________________________________________________________\n",
      "Epoch 1/10\n",
      "1875/1875 [==============================] - 4s 2ms/step - loss: 0.5283 - accuracy: 0.8135 - val_loss: 0.4545 - val_accuracy: 0.8370\n",
      "Epoch 2/10\n",
      "1875/1875 [==============================] - 4s 2ms/step - loss: 0.3952 - accuracy: 0.8573 - val_loss: 0.4007 - val_accuracy: 0.8572\n",
      "Epoch 3/10\n",
      "1875/1875 [==============================] - 3s 2ms/step - loss: 0.3572 - accuracy: 0.8710 - val_loss: 0.4128 - val_accuracy: 0.8465\n",
      "Epoch 4/10\n",
      "1875/1875 [==============================] - 4s 2ms/step - loss: 0.3395 - accuracy: 0.8764 - val_loss: 0.3581 - val_accuracy: 0.8716\n",
      "Epoch 5/10\n",
      "1875/1875 [==============================] - 5s 2ms/step - loss: 0.3203 - accuracy: 0.8835 - val_loss: 0.3685 - val_accuracy: 0.8683\n",
      "Epoch 6/10\n",
      "1875/1875 [==============================] - 4s 2ms/step - loss: 0.3052 - accuracy: 0.8885 - val_loss: 0.3537 - val_accuracy: 0.8696\n",
      "Epoch 7/10\n",
      "1875/1875 [==============================] - 4s 2ms/step - loss: 0.2951 - accuracy: 0.8910 - val_loss: 0.3568 - val_accuracy: 0.8695\n",
      "Epoch 8/10\n",
      "1875/1875 [==============================] - 4s 2ms/step - loss: 0.2848 - accuracy: 0.8952 - val_loss: 0.3410 - val_accuracy: 0.8761\n",
      "Epoch 9/10\n",
      "1875/1875 [==============================] - 4s 2ms/step - loss: 0.2746 - accuracy: 0.8989 - val_loss: 0.3478 - val_accuracy: 0.8717\n",
      "Epoch 10/10\n",
      "1875/1875 [==============================] - 4s 2ms/step - loss: 0.2665 - accuracy: 0.9023 - val_loss: 0.3528 - val_accuracy: 0.8757\n"
     ]
    }
   ],
   "source": [
    "base_model = Sequential()\n",
    "\n",
    "base_model.add(Flatten(input_shape=(28, 28, 1)))\n",
    "base_model.add(Dense(128, activation='relu', kernel_initializer='he_uniform')) # Activation relu dipakai, ini salah satu function yang paling banyak dipakai\n",
    "base_model.add(Dense(10, activation='softmax')) # Activation softmax dipakai untuk classification, nilai 10 karena terdapat 10 class (0-9)\n",
    "\n",
    "opt = SGD(lr=0.01, momentum=0.9) # Optimizer (Stochastic Gradient Descent), untuk mencari minima dari grafik fungsi loss\n",
    "\n",
    "base_model.compile(optimizer=opt, loss='categorical_crossentropy', metrics=['accuracy']) # Loss Function\n",
    "\n",
    "base_model.summary()\n",
    "\n",
    "history = base_model.fit(feature_train, label_train, batch_size=32, validation_data=(feature_test, label_test), epochs=10)"
   ]
  },
  {
   "cell_type": "code",
   "execution_count": 10,
   "metadata": {
    "id": "ElQ4_n0pBPt1"
   },
   "outputs": [],
   "source": [
    "def plot_loss(history):\n",
    "  plt.plot(history.history['loss'], label='loss')\n",
    "  plt.plot(history.history['val_loss'], label='val_loss')\n",
    "  plt.ylim([0, 10])\n",
    "  plt.xlabel('Epoch')\n",
    "  plt.ylabel('Loss')\n",
    "  plt.legend()\n",
    "  plt.grid(True)"
   ]
  },
  {
   "cell_type": "code",
   "execution_count": 11,
   "metadata": {
    "colab": {
     "base_uri": "https://localhost:8080/",
     "height": 363
    },
    "id": "olkb_RhFBRcv",
    "outputId": "e2e7a03d-1fac-4fa6-b756-a0f0e3bc896a"
   },
   "outputs": [
    {
     "data": {
      "text/html": [
       "<div>\n",
       "<style scoped>\n",
       "    .dataframe tbody tr th:only-of-type {\n",
       "        vertical-align: middle;\n",
       "    }\n",
       "\n",
       "    .dataframe tbody tr th {\n",
       "        vertical-align: top;\n",
       "    }\n",
       "\n",
       "    .dataframe thead th {\n",
       "        text-align: right;\n",
       "    }\n",
       "</style>\n",
       "<table border=\"1\" class=\"dataframe\">\n",
       "  <thead>\n",
       "    <tr style=\"text-align: right;\">\n",
       "      <th></th>\n",
       "      <th>loss</th>\n",
       "      <th>accuracy</th>\n",
       "      <th>val_loss</th>\n",
       "      <th>val_accuracy</th>\n",
       "      <th>epoch</th>\n",
       "    </tr>\n",
       "  </thead>\n",
       "  <tbody>\n",
       "    <tr>\n",
       "      <th>0</th>\n",
       "      <td>0.528313</td>\n",
       "      <td>0.813467</td>\n",
       "      <td>0.454473</td>\n",
       "      <td>0.8370</td>\n",
       "      <td>0</td>\n",
       "    </tr>\n",
       "    <tr>\n",
       "      <th>1</th>\n",
       "      <td>0.395248</td>\n",
       "      <td>0.857267</td>\n",
       "      <td>0.400690</td>\n",
       "      <td>0.8572</td>\n",
       "      <td>1</td>\n",
       "    </tr>\n",
       "    <tr>\n",
       "      <th>2</th>\n",
       "      <td>0.357164</td>\n",
       "      <td>0.870967</td>\n",
       "      <td>0.412769</td>\n",
       "      <td>0.8465</td>\n",
       "      <td>2</td>\n",
       "    </tr>\n",
       "    <tr>\n",
       "      <th>3</th>\n",
       "      <td>0.339497</td>\n",
       "      <td>0.876417</td>\n",
       "      <td>0.358108</td>\n",
       "      <td>0.8716</td>\n",
       "      <td>3</td>\n",
       "    </tr>\n",
       "    <tr>\n",
       "      <th>4</th>\n",
       "      <td>0.320334</td>\n",
       "      <td>0.883517</td>\n",
       "      <td>0.368456</td>\n",
       "      <td>0.8683</td>\n",
       "      <td>4</td>\n",
       "    </tr>\n",
       "    <tr>\n",
       "      <th>5</th>\n",
       "      <td>0.305174</td>\n",
       "      <td>0.888483</td>\n",
       "      <td>0.353666</td>\n",
       "      <td>0.8696</td>\n",
       "      <td>5</td>\n",
       "    </tr>\n",
       "    <tr>\n",
       "      <th>6</th>\n",
       "      <td>0.295124</td>\n",
       "      <td>0.891050</td>\n",
       "      <td>0.356777</td>\n",
       "      <td>0.8695</td>\n",
       "      <td>6</td>\n",
       "    </tr>\n",
       "    <tr>\n",
       "      <th>7</th>\n",
       "      <td>0.284814</td>\n",
       "      <td>0.895233</td>\n",
       "      <td>0.341016</td>\n",
       "      <td>0.8761</td>\n",
       "      <td>7</td>\n",
       "    </tr>\n",
       "    <tr>\n",
       "      <th>8</th>\n",
       "      <td>0.274565</td>\n",
       "      <td>0.898883</td>\n",
       "      <td>0.347816</td>\n",
       "      <td>0.8717</td>\n",
       "      <td>8</td>\n",
       "    </tr>\n",
       "    <tr>\n",
       "      <th>9</th>\n",
       "      <td>0.266539</td>\n",
       "      <td>0.902267</td>\n",
       "      <td>0.352837</td>\n",
       "      <td>0.8757</td>\n",
       "      <td>9</td>\n",
       "    </tr>\n",
       "  </tbody>\n",
       "</table>\n",
       "</div>"
      ],
      "text/plain": [
       "       loss  accuracy  val_loss  val_accuracy  epoch\n",
       "0  0.528313  0.813467  0.454473        0.8370      0\n",
       "1  0.395248  0.857267  0.400690        0.8572      1\n",
       "2  0.357164  0.870967  0.412769        0.8465      2\n",
       "3  0.339497  0.876417  0.358108        0.8716      3\n",
       "4  0.320334  0.883517  0.368456        0.8683      4\n",
       "5  0.305174  0.888483  0.353666        0.8696      5\n",
       "6  0.295124  0.891050  0.356777        0.8695      6\n",
       "7  0.284814  0.895233  0.341016        0.8761      7\n",
       "8  0.274565  0.898883  0.347816        0.8717      8\n",
       "9  0.266539  0.902267  0.352837        0.8757      9"
      ]
     },
     "execution_count": 11,
     "metadata": {
      "tags": []
     },
     "output_type": "execute_result"
    }
   ],
   "source": [
    "history_dataframe = pd.DataFrame(history.history)\n",
    "history_dataframe['epoch'] = history.epoch\n",
    "history_dataframe"
   ]
  },
  {
   "cell_type": "code",
   "execution_count": 12,
   "metadata": {
    "colab": {
     "base_uri": "https://localhost:8080/",
     "height": 283
    },
    "id": "-Zsq1rBjBVJO",
    "outputId": "06075796-3df3-454f-b0ce-3e3fa35fc918"
   },
   "outputs": [
    {
     "data": {
      "image/png": "[encoded data removed]",
      "text/plain": [
       "<Figure size 432x288 with 1 Axes>"
      ]
     },
     "metadata": {
      "needs_background": "light",
      "tags": []
     },
     "output_type": "display_data"
    }
   ],
   "source": [
    "plot_loss(history) # epoch vs loss graph"
   ]
  },
  {
   "cell_type": "code",
   "execution_count": 13,
   "metadata": {
    "colab": {
     "base_uri": "https://localhost:8080/",
     "height": 72
    },
    "id": "WbZW9lzVBf8N",
    "outputId": "e62d94e1-372f-4d52-88d4-b2ab6327f1fb"
   },
   "outputs": [
    {
     "name": "stdout",
     "output_type": "stream",
     "text": [
      "313/313 - 0s - loss: 0.3528 - accuracy: 0.8757\n",
      "Test accuracy: 0.8756999969482422\n",
      "Test loss: 0.3528367877006531\n"
     ]
    }
   ],
   "source": [
    "loss, accuracy = base_model.evaluate(feature_test,  label_test, verbose=2)\n",
    "\n",
    "print(\"Test accuracy:\", accuracy)\n",
    "print(\"Test loss:\", loss)"
   ]
  },
  {
   "cell_type": "markdown",
   "metadata": {
    "id": "TljOS1_0Bngy"
   },
   "source": [
    "## CNN (Convolutional Neural Network)"
   ]
  },
  {
   "cell_type": "code",
   "execution_count": 14,
   "metadata": {
    "colab": {
     "base_uri": "https://localhost:8080/",
     "height": 735
    },
    "id": "qN8eZvGOBpOj",
    "outputId": "6f43e406-707a-4eee-afd0-b1c05fd53fa8"
   },
   "outputs": [
    {
     "name": "stdout",
     "output_type": "stream",
     "text": [
      "Model: \"sequential_1\"\n",
      "_________________________________________________________________\n",
      "Layer (type)                 Output Shape              Param #   \n",
      "=================================================================\n",
      "conv2d (Conv2D)              (None, 26, 26, 32)        320       \n",
      "_________________________________________________________________\n",
      "max_pooling2d (MaxPooling2D) (None, 13, 13, 32)        0         \n",
      "_________________________________________________________________\n",
      "flatten_1 (Flatten)          (None, 5408)              0         \n",
      "_________________________________________________________________\n",
      "dense_2 (Dense)              (None, 100)               540900    \n",
      "_________________________________________________________________\n",
      "dense_3 (Dense)              (None, 10)                1010      \n",
      "=================================================================\n",
      "Total params: 542,230\n",
      "Trainable params: 542,230\n",
      "Non-trainable params: 0\n",
      "_________________________________________________________________\n",
      "Epoch 1/10\n",
      "1875/1875 [==============================] - 36s 19ms/step - loss: 0.4435 - accuracy: 0.8395 - val_loss: 0.3520 - val_accuracy: 0.8738\n",
      "Epoch 2/10\n",
      "1875/1875 [==============================] - 36s 19ms/step - loss: 0.2905 - accuracy: 0.8946 - val_loss: 0.2961 - val_accuracy: 0.8942\n",
      "Epoch 3/10\n",
      "1875/1875 [==============================] - 36s 19ms/step - loss: 0.2468 - accuracy: 0.9094 - val_loss: 0.2896 - val_accuracy: 0.8956\n",
      "Epoch 4/10\n",
      "1875/1875 [==============================] - 36s 19ms/step - loss: 0.2197 - accuracy: 0.9195 - val_loss: 0.2670 - val_accuracy: 0.9032\n",
      "Epoch 5/10\n",
      "1875/1875 [==============================] - 36s 19ms/step - loss: 0.1970 - accuracy: 0.9279 - val_loss: 0.2749 - val_accuracy: 0.9026\n",
      "Epoch 6/10\n",
      "1875/1875 [==============================] - 38s 20ms/step - loss: 0.1773 - accuracy: 0.9339 - val_loss: 0.2777 - val_accuracy: 0.9045\n",
      "Epoch 7/10\n",
      "1875/1875 [==============================] - 36s 19ms/step - loss: 0.1613 - accuracy: 0.9393 - val_loss: 0.2908 - val_accuracy: 0.9003\n",
      "Epoch 8/10\n",
      "1875/1875 [==============================] - 40s 21ms/step - loss: 0.1461 - accuracy: 0.9456 - val_loss: 0.2792 - val_accuracy: 0.9069\n",
      "Epoch 9/10\n",
      "1875/1875 [==============================] - 36s 19ms/step - loss: 0.1318 - accuracy: 0.9531 - val_loss: 0.2842 - val_accuracy: 0.9058\n",
      "Epoch 10/10\n",
      "1875/1875 [==============================] - 36s 19ms/step - loss: 0.1186 - accuracy: 0.9565 - val_loss: 0.2787 - val_accuracy: 0.9131\n"
     ]
    }
   ],
   "source": [
    "# Adapted from: https://machinelearningmastery.com/how-to-develop-a-convolutional-neural-network-from-scratch-for-mnist-handwritten-digit-classification/\n",
    "\n",
    "model = Sequential()\n",
    "model.add(Conv2D(32, (3, 3), activation='relu', kernel_initializer='he_uniform', input_shape=(28, 28, 1))) # Convolution, 32 filters, masing-masing dengan kernel 3x3\n",
    "\n",
    "model.add(MaxPooling2D((2, 2))) # Pooling\n",
    "\n",
    "model.add(Flatten()) # Flatten hasil output\n",
    "\n",
    "# Fully connected layer\n",
    "model.add(Dense(100, activation='relu', kernel_initializer='he_uniform')) # Activation relu dipakai, ini salah satu function yang paling banyak dipakai\n",
    "model.add(Dense(10, activation='softmax')) # Activation softmax dipakai untuk classification, nilai 10 karena terdapat 10 class (0-9)\n",
    "\n",
    "opt = SGD(lr=0.01, momentum=0.9) # Optimizer (Stochastic Gradient Descent), untuk mencari minima dari grafik fungsi loss\n",
    "\n",
    "model.compile(optimizer=opt, loss='categorical_crossentropy', metrics=['accuracy']) # Loss Function\n",
    "\n",
    "model.summary()\n",
    "\n",
    "history_cnn = model.fit(feature_train, label_train, batch_size=32, validation_data=(feature_test, label_test), epochs=10)"
   ]
  },
  {
   "cell_type": "code",
   "execution_count": 15,
   "metadata": {
    "colab": {
     "base_uri": "https://localhost:8080/",
     "height": 72
    },
    "id": "NHMbHVYODKHX",
    "outputId": "a5763537-3231-40a8-c8a3-18fd1be74948"
   },
   "outputs": [
    {
     "name": "stdout",
     "output_type": "stream",
     "text": [
      "313/313 - 2s - loss: 0.2787 - accuracy: 0.9131\n",
      "Test accuracy: 0.913100004196167\n",
      "Test loss: 0.2787023186683655\n"
     ]
    }
   ],
   "source": [
    "loss, accuracy = model.evaluate(feature_test,  label_test, verbose=2)\n",
    "\n",
    "print(\"Test accuracy:\", accuracy)\n",
    "print(\"Test loss:\", loss)"
   ]
  },
  {
   "cell_type": "code",
   "execution_count": 16,
   "metadata": {
    "colab": {
     "base_uri": "https://localhost:8080/",
     "height": 363
    },
    "id": "rLvXpdTtf-mf",
    "outputId": "ecbff708-6cc5-4e2a-cf45-321d5bd76730"
   },
   "outputs": [
    {
     "data": {
      "text/html": [
       "<div>\n",
       "<style scoped>\n",
       "    .dataframe tbody tr th:only-of-type {\n",
       "        vertical-align: middle;\n",
       "    }\n",
       "\n",
       "    .dataframe tbody tr th {\n",
       "        vertical-align: top;\n",
       "    }\n",
       "\n",
       "    .dataframe thead th {\n",
       "        text-align: right;\n",
       "    }\n",
       "</style>\n",
       "<table border=\"1\" class=\"dataframe\">\n",
       "  <thead>\n",
       "    <tr style=\"text-align: right;\">\n",
       "      <th></th>\n",
       "      <th>loss</th>\n",
       "      <th>accuracy</th>\n",
       "      <th>val_loss</th>\n",
       "      <th>val_accuracy</th>\n",
       "      <th>epoch</th>\n",
       "    </tr>\n",
       "  </thead>\n",
       "  <tbody>\n",
       "    <tr>\n",
       "      <th>0</th>\n",
       "      <td>0.443523</td>\n",
       "      <td>0.839483</td>\n",
       "      <td>0.351985</td>\n",
       "      <td>0.8738</td>\n",
       "      <td>0</td>\n",
       "    </tr>\n",
       "    <tr>\n",
       "      <th>1</th>\n",
       "      <td>0.290513</td>\n",
       "      <td>0.894567</td>\n",
       "      <td>0.296092</td>\n",
       "      <td>0.8942</td>\n",
       "      <td>1</td>\n",
       "    </tr>\n",
       "    <tr>\n",
       "      <th>2</th>\n",
       "      <td>0.246813</td>\n",
       "      <td>0.909400</td>\n",
       "      <td>0.289590</td>\n",
       "      <td>0.8956</td>\n",
       "      <td>2</td>\n",
       "    </tr>\n",
       "    <tr>\n",
       "      <th>3</th>\n",
       "      <td>0.219697</td>\n",
       "      <td>0.919517</td>\n",
       "      <td>0.267011</td>\n",
       "      <td>0.9032</td>\n",
       "      <td>3</td>\n",
       "    </tr>\n",
       "    <tr>\n",
       "      <th>4</th>\n",
       "      <td>0.197038</td>\n",
       "      <td>0.927867</td>\n",
       "      <td>0.274930</td>\n",
       "      <td>0.9026</td>\n",
       "      <td>4</td>\n",
       "    </tr>\n",
       "    <tr>\n",
       "      <th>5</th>\n",
       "      <td>0.177337</td>\n",
       "      <td>0.933867</td>\n",
       "      <td>0.277691</td>\n",
       "      <td>0.9045</td>\n",
       "      <td>5</td>\n",
       "    </tr>\n",
       "    <tr>\n",
       "      <th>6</th>\n",
       "      <td>0.161337</td>\n",
       "      <td>0.939333</td>\n",
       "      <td>0.290774</td>\n",
       "      <td>0.9003</td>\n",
       "      <td>6</td>\n",
       "    </tr>\n",
       "    <tr>\n",
       "      <th>7</th>\n",
       "      <td>0.146081</td>\n",
       "      <td>0.945650</td>\n",
       "      <td>0.279165</td>\n",
       "      <td>0.9069</td>\n",
       "      <td>7</td>\n",
       "    </tr>\n",
       "    <tr>\n",
       "      <th>8</th>\n",
       "      <td>0.131823</td>\n",
       "      <td>0.953050</td>\n",
       "      <td>0.284240</td>\n",
       "      <td>0.9058</td>\n",
       "      <td>8</td>\n",
       "    </tr>\n",
       "    <tr>\n",
       "      <th>9</th>\n",
       "      <td>0.118558</td>\n",
       "      <td>0.956517</td>\n",
       "      <td>0.278702</td>\n",
       "      <td>0.9131</td>\n",
       "      <td>9</td>\n",
       "    </tr>\n",
       "  </tbody>\n",
       "</table>\n",
       "</div>"
      ],
      "text/plain": [
       "       loss  accuracy  val_loss  val_accuracy  epoch\n",
       "0  0.443523  0.839483  0.351985        0.8738      0\n",
       "1  0.290513  0.894567  0.296092        0.8942      1\n",
       "2  0.246813  0.909400  0.289590        0.8956      2\n",
       "3  0.219697  0.919517  0.267011        0.9032      3\n",
       "4  0.197038  0.927867  0.274930        0.9026      4\n",
       "5  0.177337  0.933867  0.277691        0.9045      5\n",
       "6  0.161337  0.939333  0.290774        0.9003      6\n",
       "7  0.146081  0.945650  0.279165        0.9069      7\n",
       "8  0.131823  0.953050  0.284240        0.9058      8\n",
       "9  0.118558  0.956517  0.278702        0.9131      9"
      ]
     },
     "execution_count": 16,
     "metadata": {
      "tags": []
     },
     "output_type": "execute_result"
    }
   ],
   "source": [
    "history_dataframecnn = pd.DataFrame(history_cnn.history)\n",
    "history_dataframecnn['epoch'] = history_cnn.epoch\n",
    "history_dataframecnn"
   ]
  },
  {
   "cell_type": "code",
   "execution_count": 17,
   "metadata": {
    "colab": {
     "base_uri": "https://localhost:8080/",
     "height": 283
    },
    "id": "WQdN5VVBDMz6",
    "outputId": "1849766f-83d2-4feb-ba72-aec4479bc69b"
   },
   "outputs": [
    {
     "data": {
      "image/png": "[encoded data removed]",
      "text/plain": [
       "<Figure size 432x288 with 1 Axes>"
      ]
     },
     "metadata": {
      "needs_background": "light",
      "tags": []
     },
     "output_type": "display_data"
    }
   ],
   "source": [
    "plot_loss(history_cnn)"
   ]
  },
  {
   "cell_type": "markdown",
   "metadata": {
    "id": "2Masms1YIZtY"
   },
   "source": [
    "## Kesimpulan\n",
    "Dari kedua arsitektur di atas, dapat kita ketahui bahwa arsitektur terbaik adalah Convolutional Neural Network(CNN). Akurasi yang diperoleh lebih tinggi (mencapai 0.91) dan validation loss yang diperoleh juga lebih rendah (<0.3) dibandingkan dengan arsitektur Multilayer Perceptron (MP)."
   ]
  },
  {
   "cell_type": "markdown",
   "metadata": {
    "id": "M5EgoLVGEdlY"
   },
   "source": [
    "# Nomor 2"
   ]
  },
  {
   "cell_type": "markdown",
   "metadata": {
    "id": "R3mWhJ1IMOAg"
   },
   "source": [
    "## Fashion MNIST"
   ]
  },
  {
   "cell_type": "code",
   "execution_count": 36,
   "metadata": {
    "colab": {
     "base_uri": "https://localhost:8080/",
     "height": 827
    },
    "id": "LsZt8eafEfkF",
    "outputId": "62398ed7-6907-488a-e66e-dea6fb93643a"
   },
   "outputs": [
    {
     "name": "stdout",
     "output_type": "stream",
     "text": [
      "Model: \"sequential_4\"\n",
      "_________________________________________________________________\n",
      "Layer (type)                 Output Shape              Param #   \n",
      "=================================================================\n",
      "conv2d_4 (Conv2D)            (None, 26, 26, 32)        320       \n",
      "_________________________________________________________________\n",
      "max_pooling2d_3 (MaxPooling2 (None, 13, 13, 32)        0         \n",
      "_________________________________________________________________\n",
      "conv2d_5 (Conv2D)            (None, 11, 11, 64)        18496     \n",
      "_________________________________________________________________\n",
      "max_pooling2d_4 (MaxPooling2 (None, 5, 5, 64)          0         \n",
      "_________________________________________________________________\n",
      "flatten_3 (Flatten)          (None, 1600)              0         \n",
      "_________________________________________________________________\n",
      "dense_6 (Dense)              (None, 100)               160100    \n",
      "_________________________________________________________________\n",
      "dense_7 (Dense)              (None, 10)                1010      \n",
      "=================================================================\n",
      "Total params: 179,926\n",
      "Trainable params: 179,926\n",
      "Non-trainable params: 0\n",
      "_________________________________________________________________\n",
      "Epoch 1/10\n",
      "1875/1875 [==============================] - 58s 31ms/step - loss: 0.4534 - accuracy: 0.8343 - val_loss: 0.3457 - val_accuracy: 0.8717\n",
      "Epoch 2/10\n",
      "1875/1875 [==============================] - 55s 30ms/step - loss: 0.3083 - accuracy: 0.8860 - val_loss: 0.3025 - val_accuracy: 0.8881\n",
      "Epoch 3/10\n",
      "1875/1875 [==============================] - 55s 30ms/step - loss: 0.2658 - accuracy: 0.9023 - val_loss: 0.3064 - val_accuracy: 0.8863\n",
      "Epoch 4/10\n",
      "1875/1875 [==============================] - 55s 29ms/step - loss: 0.2372 - accuracy: 0.9115 - val_loss: 0.3340 - val_accuracy: 0.8816\n",
      "Epoch 5/10\n",
      "1875/1875 [==============================] - 56s 30ms/step - loss: 0.2169 - accuracy: 0.9195 - val_loss: 0.2811 - val_accuracy: 0.8996\n",
      "Epoch 6/10\n",
      "1875/1875 [==============================] - 55s 29ms/step - loss: 0.1993 - accuracy: 0.9251 - val_loss: 0.2753 - val_accuracy: 0.8989\n",
      "Epoch 7/10\n",
      "1875/1875 [==============================] - 57s 30ms/step - loss: 0.1821 - accuracy: 0.9315 - val_loss: 0.2710 - val_accuracy: 0.9066\n",
      "Epoch 8/10\n",
      "1875/1875 [==============================] - 55s 29ms/step - loss: 0.1680 - accuracy: 0.9374 - val_loss: 0.3137 - val_accuracy: 0.8932\n",
      "Epoch 9/10\n",
      "1875/1875 [==============================] - 55s 29ms/step - loss: 0.1557 - accuracy: 0.9409 - val_loss: 0.2934 - val_accuracy: 0.9033\n",
      "Epoch 10/10\n",
      "1875/1875 [==============================] - 55s 29ms/step - loss: 0.1434 - accuracy: 0.9452 - val_loss: 0.2985 - val_accuracy: 0.9018\n"
     ]
    },
    {
     "data": {
      "text/plain": [
       "<tensorflow.python.keras.callbacks.History at 0x7f3e35f16ba8>"
      ]
     },
     "execution_count": 36,
     "metadata": {
      "tags": []
     },
     "output_type": "execute_result"
    }
   ],
   "source": [
    "'''\n",
    "Deeper CNN\n",
    "'''\n",
    "deeper_model = Sequential()\n",
    "\n",
    "# Convolution layer yang lebih dalam\n",
    "deeper_model.add(Conv2D(32, (3, 3), activation='relu', kernel_initializer='he_uniform', input_shape=(28, 28, 1)))\n",
    "deeper_model.add(MaxPooling2D((2, 2)))\n",
    "deeper_model.add(Conv2D(64, (3, 3), activation='relu', kernel_initializer='he_uniform'))\n",
    "deeper_model.add(MaxPooling2D((2, 2)))\n",
    "\n",
    "deeper_model.add(Flatten())\n",
    "\n",
    "deeper_model.add(Dense(100, activation='relu', kernel_initializer='he_uniform'))\n",
    "deeper_model.add(Dense(10, activation='softmax'))\n",
    "\n",
    "opt = SGD(lr=0.01, momentum=0.9)\n",
    "\n",
    "deeper_model.compile(optimizer=opt, loss='categorical_crossentropy', metrics=['accuracy'])\n",
    "\n",
    "deeper_model.summary()\n",
    "\n",
    "deeper_model.fit(feature_train, label_train, batch_size=32, validation_data=(feature_test, label_test), epochs=10)"
   ]
  },
  {
   "cell_type": "markdown",
   "metadata": {
    "id": "o2igtY1bMtxR"
   },
   "source": [
    "## MNIST"
   ]
  },
  {
   "cell_type": "code",
   "execution_count": 37,
   "metadata": {
    "id": "O2_ea-noMxZk"
   },
   "outputs": [],
   "source": [
    "from tensorflow.keras.datasets import mnist\n",
    "import matplotlib.pyplot as plt\n",
    "import pandas as pd"
   ]
  },
  {
   "cell_type": "code",
   "execution_count": 40,
   "metadata": {
    "colab": {
     "base_uri": "https://localhost:8080/",
     "height": 357
    },
    "id": "RPfE6yGGOfez",
    "outputId": "133a9c09-e6de-43c4-aa73-536c300235bf"
   },
   "outputs": [
    {
     "name": "stdout",
     "output_type": "stream",
     "text": [
      "Downloading data from https://storage.googleapis.com/tensorflow/tf-keras-datasets/mnist.npz\n",
      "11493376/11490434 [==============================] - 0s 0us/step\n",
      "Train (60000, 28, 28) (60000,)\n",
      "Test (10000, 28, 28) (10000,)\n"
     ]
    },
    {
     "data": {
      "text/plain": [
       "<matplotlib.image.AxesImage at 0x7f3e34557c18>"
      ]
     },
     "execution_count": 40,
     "metadata": {
      "tags": []
     },
     "output_type": "execute_result"
    },
    {
     "data": {
      "image/png": "[encoded data removed]",
      "text/plain": [
       "<Figure size 432x288 with 1 Axes>"
      ]
     },
     "metadata": {
      "needs_background": "light",
      "tags": []
     },
     "output_type": "display_data"
    }
   ],
   "source": [
    "(feature_train, label_train), (feature_test, label_test) = mnist.load_data()\n",
    "\n",
    "print(\"Train\", feature_train.shape, label_train.shape)\n",
    "print(\"Test\", feature_test.shape, label_test.shape)\n",
    "\n",
    "plt.imshow(feature_train[100], cmap=plt.get_cmap('gray'))"
   ]
  },
  {
   "cell_type": "markdown",
   "metadata": {
    "id": "iJqMNYjjOzf5"
   },
   "source": [
    "### Feature Engineering"
   ]
  },
  {
   "cell_type": "code",
   "execution_count": 41,
   "metadata": {
    "id": "54J5HMp3O1z2"
   },
   "outputs": [],
   "source": [
    "feature_train = feature_train.reshape((feature_train.shape[0], 28, 28, 1))\n",
    "feature_test = feature_test.reshape((feature_test.shape[0], 28, 28, 1))"
   ]
  },
  {
   "cell_type": "code",
   "execution_count": 42,
   "metadata": {
    "colab": {
     "base_uri": "https://localhost:8080/",
     "height": 35
    },
    "id": "cF2tktfiO-ou",
    "outputId": "23562b8e-bd89-4944-97d7-3b86ed9028d7"
   },
   "outputs": [
    {
     "name": "stdout",
     "output_type": "stream",
     "text": [
      "(60000, 28, 28, 1)\n"
     ]
    }
   ],
   "source": [
    "print(feature_train.shape)"
   ]
  },
  {
   "cell_type": "code",
   "execution_count": 43,
   "metadata": {
    "id": "BiswC6vgPKMv"
   },
   "outputs": [],
   "source": [
    "label_train = to_categorical(label_train)\n",
    "label_test = to_categorical(label_test)"
   ]
  },
  {
   "cell_type": "code",
   "execution_count": 44,
   "metadata": {
    "id": "7HgNtuZCPRKS"
   },
   "outputs": [],
   "source": [
    "feature_train = feature_train.astype('float32')\n",
    "feature_test = feature_test.astype('float32')\n",
    "\n",
    "feature_train = feature_train / 255.0\n",
    "feature_test = feature_test / 255.0"
   ]
  },
  {
   "cell_type": "markdown",
   "metadata": {
    "id": "DQqHoZtkPX2-"
   },
   "source": [
    "### Multilayer Perceptron"
   ]
  },
  {
   "cell_type": "code",
   "execution_count": 45,
   "metadata": {
    "colab": {
     "base_uri": "https://localhost:8080/",
     "height": 661
    },
    "id": "pKY2r_ABPcsx",
    "outputId": "e8cc17f6-34f1-467f-e297-5d54d629c491"
   },
   "outputs": [
    {
     "name": "stdout",
     "output_type": "stream",
     "text": [
      "Model: \"sequential_5\"\n",
      "_________________________________________________________________\n",
      "Layer (type)                 Output Shape              Param #   \n",
      "=================================================================\n",
      "flatten_4 (Flatten)          (None, 784)               0         \n",
      "_________________________________________________________________\n",
      "dense_8 (Dense)              (None, 128)               100480    \n",
      "_________________________________________________________________\n",
      "dense_9 (Dense)              (None, 10)                1290      \n",
      "=================================================================\n",
      "Total params: 101,770\n",
      "Trainable params: 101,770\n",
      "Non-trainable params: 0\n",
      "_________________________________________________________________\n",
      "Epoch 1/10\n",
      "1875/1875 [==============================] - 4s 2ms/step - loss: 0.3043 - accuracy: 0.9122 - val_loss: 0.1667 - val_accuracy: 0.9508\n",
      "Epoch 2/10\n",
      "1875/1875 [==============================] - 4s 2ms/step - loss: 0.1474 - accuracy: 0.9575 - val_loss: 0.1208 - val_accuracy: 0.9636\n",
      "Epoch 3/10\n",
      "1875/1875 [==============================] - 4s 2ms/step - loss: 0.1050 - accuracy: 0.9695 - val_loss: 0.0948 - val_accuracy: 0.9712\n",
      "Epoch 4/10\n",
      "1875/1875 [==============================] - 4s 2ms/step - loss: 0.0827 - accuracy: 0.9760 - val_loss: 0.0881 - val_accuracy: 0.9748\n",
      "Epoch 5/10\n",
      "1875/1875 [==============================] - 4s 2ms/step - loss: 0.0685 - accuracy: 0.9801 - val_loss: 0.0841 - val_accuracy: 0.9747\n",
      "Epoch 6/10\n",
      "1875/1875 [==============================] - 3s 2ms/step - loss: 0.0570 - accuracy: 0.9838 - val_loss: 0.0763 - val_accuracy: 0.9772\n",
      "Epoch 7/10\n",
      "1875/1875 [==============================] - 3s 2ms/step - loss: 0.0495 - accuracy: 0.9858 - val_loss: 0.0744 - val_accuracy: 0.9768\n",
      "Epoch 8/10\n",
      "1875/1875 [==============================] - 4s 2ms/step - loss: 0.0418 - accuracy: 0.9880 - val_loss: 0.0698 - val_accuracy: 0.9786\n",
      "Epoch 9/10\n",
      "1875/1875 [==============================] - 4s 2ms/step - loss: 0.0361 - accuracy: 0.9895 - val_loss: 0.0717 - val_accuracy: 0.9785\n",
      "Epoch 10/10\n",
      "1875/1875 [==============================] - 4s 2ms/step - loss: 0.0316 - accuracy: 0.9913 - val_loss: 0.0691 - val_accuracy: 0.9782\n"
     ]
    }
   ],
   "source": [
    "base_model = Sequential()\n",
    "\n",
    "base_model.add(Flatten(input_shape=(28, 28, 1)))\n",
    "base_model.add(Dense(128, activation='relu', kernel_initializer='he_uniform')) # Activation relu dipakai, ini salah satu function yang paling banyak dipakai\n",
    "base_model.add(Dense(10, activation='softmax')) # Activation softmax dipakai untuk classification, nilai 10 karena terdapat 10 class (0-9)\n",
    "\n",
    "opt = SGD(lr=0.01, momentum=0.9) # Optimizer (Stochastic Gradient Descent), untuk mencari minima dari grafik fungsi loss\n",
    "\n",
    "base_model.compile(optimizer=opt, loss='categorical_crossentropy', metrics=['accuracy']) # Loss Function\n",
    "\n",
    "base_model.summary()\n",
    "\n",
    "history = base_model.fit(feature_train, label_train, batch_size=32, validation_data=(feature_test, label_test), epochs=10)"
   ]
  },
  {
   "cell_type": "code",
   "execution_count": 46,
   "metadata": {
    "id": "aiTZdZ6pPylz"
   },
   "outputs": [],
   "source": [
    "def plot_loss(history):\n",
    "  plt.plot(history.history['loss'], label='loss')\n",
    "  plt.plot(history.history['val_loss'], label='val_loss')\n",
    "  plt.ylim([0, 10])\n",
    "  plt.xlabel('Epoch')\n",
    "  plt.ylabel('Loss')\n",
    "  plt.legend()\n",
    "  plt.grid(True)"
   ]
  },
  {
   "cell_type": "code",
   "execution_count": 47,
   "metadata": {
    "colab": {
     "base_uri": "https://localhost:8080/",
     "height": 363
    },
    "id": "pKB7pBJGP5Fu",
    "outputId": "42e3eb29-a8b0-43a2-aa50-36171a2a9297"
   },
   "outputs": [
    {
     "data": {
      "text/html": [
       "<div>\n",
       "<style scoped>\n",
       "    .dataframe tbody tr th:only-of-type {\n",
       "        vertical-align: middle;\n",
       "    }\n",
       "\n",
       "    .dataframe tbody tr th {\n",
       "        vertical-align: top;\n",
       "    }\n",
       "\n",
       "    .dataframe thead th {\n",
       "        text-align: right;\n",
       "    }\n",
       "</style>\n",
       "<table border=\"1\" class=\"dataframe\">\n",
       "  <thead>\n",
       "    <tr style=\"text-align: right;\">\n",
       "      <th></th>\n",
       "      <th>loss</th>\n",
       "      <th>accuracy</th>\n",
       "      <th>val_loss</th>\n",
       "      <th>val_accuracy</th>\n",
       "      <th>epoch</th>\n",
       "    </tr>\n",
       "  </thead>\n",
       "  <tbody>\n",
       "    <tr>\n",
       "      <th>0</th>\n",
       "      <td>0.304280</td>\n",
       "      <td>0.912233</td>\n",
       "      <td>0.166738</td>\n",
       "      <td>0.9508</td>\n",
       "      <td>0</td>\n",
       "    </tr>\n",
       "    <tr>\n",
       "      <th>1</th>\n",
       "      <td>0.147420</td>\n",
       "      <td>0.957550</td>\n",
       "      <td>0.120808</td>\n",
       "      <td>0.9636</td>\n",
       "      <td>1</td>\n",
       "    </tr>\n",
       "    <tr>\n",
       "      <th>2</th>\n",
       "      <td>0.104972</td>\n",
       "      <td>0.969517</td>\n",
       "      <td>0.094836</td>\n",
       "      <td>0.9712</td>\n",
       "      <td>2</td>\n",
       "    </tr>\n",
       "    <tr>\n",
       "      <th>3</th>\n",
       "      <td>0.082671</td>\n",
       "      <td>0.976017</td>\n",
       "      <td>0.088052</td>\n",
       "      <td>0.9748</td>\n",
       "      <td>3</td>\n",
       "    </tr>\n",
       "    <tr>\n",
       "      <th>4</th>\n",
       "      <td>0.068473</td>\n",
       "      <td>0.980050</td>\n",
       "      <td>0.084109</td>\n",
       "      <td>0.9747</td>\n",
       "      <td>4</td>\n",
       "    </tr>\n",
       "    <tr>\n",
       "      <th>5</th>\n",
       "      <td>0.056959</td>\n",
       "      <td>0.983800</td>\n",
       "      <td>0.076310</td>\n",
       "      <td>0.9772</td>\n",
       "      <td>5</td>\n",
       "    </tr>\n",
       "    <tr>\n",
       "      <th>6</th>\n",
       "      <td>0.049476</td>\n",
       "      <td>0.985817</td>\n",
       "      <td>0.074377</td>\n",
       "      <td>0.9768</td>\n",
       "      <td>6</td>\n",
       "    </tr>\n",
       "    <tr>\n",
       "      <th>7</th>\n",
       "      <td>0.041793</td>\n",
       "      <td>0.988050</td>\n",
       "      <td>0.069836</td>\n",
       "      <td>0.9786</td>\n",
       "      <td>7</td>\n",
       "    </tr>\n",
       "    <tr>\n",
       "      <th>8</th>\n",
       "      <td>0.036066</td>\n",
       "      <td>0.989467</td>\n",
       "      <td>0.071730</td>\n",
       "      <td>0.9785</td>\n",
       "      <td>8</td>\n",
       "    </tr>\n",
       "    <tr>\n",
       "      <th>9</th>\n",
       "      <td>0.031606</td>\n",
       "      <td>0.991267</td>\n",
       "      <td>0.069137</td>\n",
       "      <td>0.9782</td>\n",
       "      <td>9</td>\n",
       "    </tr>\n",
       "  </tbody>\n",
       "</table>\n",
       "</div>"
      ],
      "text/plain": [
       "       loss  accuracy  val_loss  val_accuracy  epoch\n",
       "0  0.304280  0.912233  0.166738        0.9508      0\n",
       "1  0.147420  0.957550  0.120808        0.9636      1\n",
       "2  0.104972  0.969517  0.094836        0.9712      2\n",
       "3  0.082671  0.976017  0.088052        0.9748      3\n",
       "4  0.068473  0.980050  0.084109        0.9747      4\n",
       "5  0.056959  0.983800  0.076310        0.9772      5\n",
       "6  0.049476  0.985817  0.074377        0.9768      6\n",
       "7  0.041793  0.988050  0.069836        0.9786      7\n",
       "8  0.036066  0.989467  0.071730        0.9785      8\n",
       "9  0.031606  0.991267  0.069137        0.9782      9"
      ]
     },
     "execution_count": 47,
     "metadata": {
      "tags": []
     },
     "output_type": "execute_result"
    }
   ],
   "source": [
    "history_dataframe = pd.DataFrame(history.history)\n",
    "history_dataframe['epoch'] = history.epoch\n",
    "history_dataframe"
   ]
  },
  {
   "cell_type": "code",
   "execution_count": 48,
   "metadata": {
    "colab": {
     "base_uri": "https://localhost:8080/",
     "height": 283
    },
    "id": "TFUCfkrbQAmx",
    "outputId": "f8d9af6a-1c21-4121-90f1-014273fdb5a7"
   },
   "outputs": [
    {
     "data": {
      "image/png": "[encoded data removed]",
      "text/plain": [
       "<Figure size 432x288 with 1 Axes>"
      ]
     },
     "metadata": {
      "needs_background": "light",
      "tags": []
     },
     "output_type": "display_data"
    }
   ],
   "source": [
    "plot_loss(history)"
   ]
  },
  {
   "cell_type": "code",
   "execution_count": 49,
   "metadata": {
    "colab": {
     "base_uri": "https://localhost:8080/",
     "height": 72
    },
    "id": "AAA-tt9NQIuu",
    "outputId": "6be7b2d8-0b70-48d5-9ba2-c87f6e758ebc"
   },
   "outputs": [
    {
     "name": "stdout",
     "output_type": "stream",
     "text": [
      "313/313 - 1s - loss: 0.0691 - accuracy: 0.9782\n",
      "Test accuracy: 0.9782000184059143\n",
      "Test loss: 0.06913711130619049\n"
     ]
    }
   ],
   "source": [
    "loss, accuracy = base_model.evaluate(feature_test,  label_test, verbose=2)\n",
    "\n",
    "print(\"Test accuracy:\", accuracy)\n",
    "print(\"Test loss:\", loss)"
   ]
  },
  {
   "cell_type": "markdown",
   "metadata": {
    "id": "2rwE5PUcQQtI"
   },
   "source": [
    "### CNN"
   ]
  },
  {
   "cell_type": "code",
   "execution_count": 50,
   "metadata": {
    "colab": {
     "base_uri": "https://localhost:8080/",
     "height": 735
    },
    "id": "5onmhcxeQWH1",
    "outputId": "11a0c9d2-8d18-41cb-f756-c4b08910e01a"
   },
   "outputs": [
    {
     "name": "stdout",
     "output_type": "stream",
     "text": [
      "Model: \"sequential_6\"\n",
      "_________________________________________________________________\n",
      "Layer (type)                 Output Shape              Param #   \n",
      "=================================================================\n",
      "conv2d_6 (Conv2D)            (None, 26, 26, 32)        320       \n",
      "_________________________________________________________________\n",
      "max_pooling2d_5 (MaxPooling2 (None, 13, 13, 32)        0         \n",
      "_________________________________________________________________\n",
      "flatten_5 (Flatten)          (None, 5408)              0         \n",
      "_________________________________________________________________\n",
      "dense_10 (Dense)             (None, 100)               540900    \n",
      "_________________________________________________________________\n",
      "dense_11 (Dense)             (None, 10)                1010      \n",
      "=================================================================\n",
      "Total params: 542,230\n",
      "Trainable params: 542,230\n",
      "Non-trainable params: 0\n",
      "_________________________________________________________________\n",
      "Epoch 1/10\n",
      "1875/1875 [==============================] - 37s 20ms/step - loss: 0.1588 - accuracy: 0.9510 - val_loss: 0.0677 - val_accuracy: 0.9789\n",
      "Epoch 2/10\n",
      "1875/1875 [==============================] - 36s 19ms/step - loss: 0.0552 - accuracy: 0.9837 - val_loss: 0.0508 - val_accuracy: 0.9842\n",
      "Epoch 3/10\n",
      "1875/1875 [==============================] - 36s 19ms/step - loss: 0.0352 - accuracy: 0.9892 - val_loss: 0.0552 - val_accuracy: 0.9824\n",
      "Epoch 4/10\n",
      "1875/1875 [==============================] - 36s 19ms/step - loss: 0.0256 - accuracy: 0.9924 - val_loss: 0.0432 - val_accuracy: 0.9866\n",
      "Epoch 5/10\n",
      "1875/1875 [==============================] - 40s 21ms/step - loss: 0.0173 - accuracy: 0.9954 - val_loss: 0.0444 - val_accuracy: 0.9856\n",
      "Epoch 6/10\n",
      "1875/1875 [==============================] - 39s 21ms/step - loss: 0.0130 - accuracy: 0.9961 - val_loss: 0.0408 - val_accuracy: 0.9866\n",
      "Epoch 7/10\n",
      "1875/1875 [==============================] - 36s 19ms/step - loss: 0.0088 - accuracy: 0.9977 - val_loss: 0.0408 - val_accuracy: 0.9872\n",
      "Epoch 8/10\n",
      "1875/1875 [==============================] - 36s 19ms/step - loss: 0.0058 - accuracy: 0.9987 - val_loss: 0.0393 - val_accuracy: 0.9883\n",
      "Epoch 9/10\n",
      "1875/1875 [==============================] - 38s 20ms/step - loss: 0.0042 - accuracy: 0.9991 - val_loss: 0.0461 - val_accuracy: 0.9870\n",
      "Epoch 10/10\n",
      "1875/1875 [==============================] - 36s 19ms/step - loss: 0.0024 - accuracy: 0.9997 - val_loss: 0.0429 - val_accuracy: 0.9880\n"
     ]
    }
   ],
   "source": [
    "# Adapted from: https://machinelearningmastery.com/how-to-develop-a-convolutional-neural-network-from-scratch-for-mnist-handwritten-digit-classification/\n",
    "\n",
    "model = Sequential()\n",
    "model.add(Conv2D(32, (3, 3), activation='relu', kernel_initializer='he_uniform', input_shape=(28, 28, 1))) # Convolution, 32 filters, masing-masing dengan kernel 3x3\n",
    "\n",
    "model.add(MaxPooling2D((2, 2))) # Pooling\n",
    "\n",
    "model.add(Flatten()) # Flatten hasil output\n",
    "\n",
    "# Fully connected layer\n",
    "model.add(Dense(100, activation='relu', kernel_initializer='he_uniform')) # Activation relu dipakai, ini salah satu function yang paling banyak dipakai\n",
    "model.add(Dense(10, activation='softmax')) # Activation softmax dipakai untuk classification, nilai 10 karena terdapat 10 class (0-9)\n",
    "\n",
    "opt = SGD(lr=0.01, momentum=0.9) # Optimizer (Stochastic Gradient Descent), untuk mencari minima dari grafik fungsi loss\n",
    "\n",
    "model.compile(optimizer=opt, loss='categorical_crossentropy', metrics=['accuracy']) # Loss Function\n",
    "\n",
    "model.summary()\n",
    "\n",
    "history_cnn = model.fit(feature_train, label_train, batch_size=32, validation_data=(feature_test, label_test), epochs=10)"
   ]
  },
  {
   "cell_type": "code",
   "execution_count": 51,
   "metadata": {
    "colab": {
     "base_uri": "https://localhost:8080/",
     "height": 72
    },
    "id": "HD4oScTdSja-",
    "outputId": "94a038af-4545-42dd-aae2-1c12e14fc8ce"
   },
   "outputs": [
    {
     "name": "stdout",
     "output_type": "stream",
     "text": [
      "313/313 - 2s - loss: 0.0429 - accuracy: 0.9880\n",
      "Test accuracy: 0.9879999756813049\n",
      "Test loss: 0.04285687208175659\n"
     ]
    }
   ],
   "source": [
    "loss, accuracy = model.evaluate(feature_test,  label_test, verbose=2)\n",
    "\n",
    "print(\"Test accuracy:\", accuracy)\n",
    "print(\"Test loss:\", loss)"
   ]
  },
  {
   "cell_type": "code",
   "execution_count": 52,
   "metadata": {
    "colab": {
     "base_uri": "https://localhost:8080/",
     "height": 363
    },
    "id": "fmxa_qhvSpgD",
    "outputId": "67a1049b-ae07-4735-b975-00a35855e6c4"
   },
   "outputs": [
    {
     "data": {
      "text/html": [
       "<div>\n",
       "<style scoped>\n",
       "    .dataframe tbody tr th:only-of-type {\n",
       "        vertical-align: middle;\n",
       "    }\n",
       "\n",
       "    .dataframe tbody tr th {\n",
       "        vertical-align: top;\n",
       "    }\n",
       "\n",
       "    .dataframe thead th {\n",
       "        text-align: right;\n",
       "    }\n",
       "</style>\n",
       "<table border=\"1\" class=\"dataframe\">\n",
       "  <thead>\n",
       "    <tr style=\"text-align: right;\">\n",
       "      <th></th>\n",
       "      <th>loss</th>\n",
       "      <th>accuracy</th>\n",
       "      <th>val_loss</th>\n",
       "      <th>val_accuracy</th>\n",
       "      <th>epoch</th>\n",
       "    </tr>\n",
       "  </thead>\n",
       "  <tbody>\n",
       "    <tr>\n",
       "      <th>0</th>\n",
       "      <td>0.158777</td>\n",
       "      <td>0.951033</td>\n",
       "      <td>0.067683</td>\n",
       "      <td>0.9789</td>\n",
       "      <td>0</td>\n",
       "    </tr>\n",
       "    <tr>\n",
       "      <th>1</th>\n",
       "      <td>0.055226</td>\n",
       "      <td>0.983650</td>\n",
       "      <td>0.050798</td>\n",
       "      <td>0.9842</td>\n",
       "      <td>1</td>\n",
       "    </tr>\n",
       "    <tr>\n",
       "      <th>2</th>\n",
       "      <td>0.035216</td>\n",
       "      <td>0.989233</td>\n",
       "      <td>0.055209</td>\n",
       "      <td>0.9824</td>\n",
       "      <td>2</td>\n",
       "    </tr>\n",
       "    <tr>\n",
       "      <th>3</th>\n",
       "      <td>0.025608</td>\n",
       "      <td>0.992400</td>\n",
       "      <td>0.043164</td>\n",
       "      <td>0.9866</td>\n",
       "      <td>3</td>\n",
       "    </tr>\n",
       "    <tr>\n",
       "      <th>4</th>\n",
       "      <td>0.017307</td>\n",
       "      <td>0.995350</td>\n",
       "      <td>0.044392</td>\n",
       "      <td>0.9856</td>\n",
       "      <td>4</td>\n",
       "    </tr>\n",
       "    <tr>\n",
       "      <th>5</th>\n",
       "      <td>0.012979</td>\n",
       "      <td>0.996117</td>\n",
       "      <td>0.040777</td>\n",
       "      <td>0.9866</td>\n",
       "      <td>5</td>\n",
       "    </tr>\n",
       "    <tr>\n",
       "      <th>6</th>\n",
       "      <td>0.008810</td>\n",
       "      <td>0.997750</td>\n",
       "      <td>0.040829</td>\n",
       "      <td>0.9872</td>\n",
       "      <td>6</td>\n",
       "    </tr>\n",
       "    <tr>\n",
       "      <th>7</th>\n",
       "      <td>0.005819</td>\n",
       "      <td>0.998733</td>\n",
       "      <td>0.039349</td>\n",
       "      <td>0.9883</td>\n",
       "      <td>7</td>\n",
       "    </tr>\n",
       "    <tr>\n",
       "      <th>8</th>\n",
       "      <td>0.004230</td>\n",
       "      <td>0.999100</td>\n",
       "      <td>0.046071</td>\n",
       "      <td>0.9870</td>\n",
       "      <td>8</td>\n",
       "    </tr>\n",
       "    <tr>\n",
       "      <th>9</th>\n",
       "      <td>0.002393</td>\n",
       "      <td>0.999683</td>\n",
       "      <td>0.042857</td>\n",
       "      <td>0.9880</td>\n",
       "      <td>9</td>\n",
       "    </tr>\n",
       "  </tbody>\n",
       "</table>\n",
       "</div>"
      ],
      "text/plain": [
       "       loss  accuracy  val_loss  val_accuracy  epoch\n",
       "0  0.158777  0.951033  0.067683        0.9789      0\n",
       "1  0.055226  0.983650  0.050798        0.9842      1\n",
       "2  0.035216  0.989233  0.055209        0.9824      2\n",
       "3  0.025608  0.992400  0.043164        0.9866      3\n",
       "4  0.017307  0.995350  0.044392        0.9856      4\n",
       "5  0.012979  0.996117  0.040777        0.9866      5\n",
       "6  0.008810  0.997750  0.040829        0.9872      6\n",
       "7  0.005819  0.998733  0.039349        0.9883      7\n",
       "8  0.004230  0.999100  0.046071        0.9870      8\n",
       "9  0.002393  0.999683  0.042857        0.9880      9"
      ]
     },
     "execution_count": 52,
     "metadata": {
      "tags": []
     },
     "output_type": "execute_result"
    }
   ],
   "source": [
    "history_dataframecnn = pd.DataFrame(history_cnn.history)\n",
    "history_dataframecnn['epoch'] = history_cnn.epoch\n",
    "history_dataframecnn"
   ]
  },
  {
   "cell_type": "code",
   "execution_count": 53,
   "metadata": {
    "colab": {
     "base_uri": "https://localhost:8080/",
     "height": 283
    },
    "id": "CvMYtlHqSwQZ",
    "outputId": "42543291-fd67-437b-9b1e-642896996ec8"
   },
   "outputs": [
    {
     "data": {
      "image/png": "[encoded data removed]",
      "text/plain": [
       "<Figure size 432x288 with 1 Axes>"
      ]
     },
     "metadata": {
      "needs_background": "light",
      "tags": []
     },
     "output_type": "display_data"
    }
   ],
   "source": [
    "plot_loss(history_cnn)"
   ]
  },
  {
   "cell_type": "markdown",
   "metadata": {
    "id": "udjk7VmpS2b4"
   },
   "source": [
    "### Deeper Model"
   ]
  },
  {
   "cell_type": "code",
   "execution_count": 54,
   "metadata": {
    "colab": {
     "base_uri": "https://localhost:8080/",
     "height": 827
    },
    "id": "dByOU_JsNMnl",
    "outputId": "e24b9427-57bc-4961-ac65-360068c69a11"
   },
   "outputs": [
    {
     "name": "stdout",
     "output_type": "stream",
     "text": [
      "Model: \"sequential_7\"\n",
      "_________________________________________________________________\n",
      "Layer (type)                 Output Shape              Param #   \n",
      "=================================================================\n",
      "conv2d_7 (Conv2D)            (None, 26, 26, 32)        320       \n",
      "_________________________________________________________________\n",
      "max_pooling2d_6 (MaxPooling2 (None, 13, 13, 32)        0         \n",
      "_________________________________________________________________\n",
      "conv2d_8 (Conv2D)            (None, 11, 11, 64)        18496     \n",
      "_________________________________________________________________\n",
      "max_pooling2d_7 (MaxPooling2 (None, 5, 5, 64)          0         \n",
      "_________________________________________________________________\n",
      "flatten_6 (Flatten)          (None, 1600)              0         \n",
      "_________________________________________________________________\n",
      "dense_12 (Dense)             (None, 100)               160100    \n",
      "_________________________________________________________________\n",
      "dense_13 (Dense)             (None, 10)                1010      \n",
      "=================================================================\n",
      "Total params: 179,926\n",
      "Trainable params: 179,926\n",
      "Non-trainable params: 0\n",
      "_________________________________________________________________\n",
      "Epoch 1/10\n",
      "1875/1875 [==============================] - 57s 30ms/step - loss: 0.1290 - accuracy: 0.9590 - val_loss: 0.0443 - val_accuracy: 0.9857\n",
      "Epoch 2/10\n",
      "1875/1875 [==============================] - 60s 32ms/step - loss: 0.0469 - accuracy: 0.9851 - val_loss: 0.0360 - val_accuracy: 0.9888\n",
      "Epoch 3/10\n",
      "1875/1875 [==============================] - 59s 32ms/step - loss: 0.0313 - accuracy: 0.9907 - val_loss: 0.0349 - val_accuracy: 0.9887\n",
      "Epoch 4/10\n",
      "1875/1875 [==============================] - 57s 31ms/step - loss: 0.0225 - accuracy: 0.9928 - val_loss: 0.0330 - val_accuracy: 0.9890\n",
      "Epoch 5/10\n",
      "1875/1875 [==============================] - 57s 31ms/step - loss: 0.0175 - accuracy: 0.9947 - val_loss: 0.0313 - val_accuracy: 0.9905\n",
      "Epoch 6/10\n",
      "1875/1875 [==============================] - 56s 30ms/step - loss: 0.0128 - accuracy: 0.9959 - val_loss: 0.0336 - val_accuracy: 0.9895\n",
      "Epoch 7/10\n",
      "1875/1875 [==============================] - 57s 30ms/step - loss: 0.0107 - accuracy: 0.9965 - val_loss: 0.0310 - val_accuracy: 0.9912\n",
      "Epoch 8/10\n",
      "1875/1875 [==============================] - 56s 30ms/step - loss: 0.0075 - accuracy: 0.9977 - val_loss: 0.0314 - val_accuracy: 0.9917\n",
      "Epoch 9/10\n",
      "1875/1875 [==============================] - 60s 32ms/step - loss: 0.0051 - accuracy: 0.9987 - val_loss: 0.0287 - val_accuracy: 0.9916\n",
      "Epoch 10/10\n",
      "1875/1875 [==============================] - 57s 30ms/step - loss: 0.0050 - accuracy: 0.9986 - val_loss: 0.0330 - val_accuracy: 0.9913\n"
     ]
    },
    {
     "data": {
      "text/plain": [
       "<tensorflow.python.keras.callbacks.History at 0x7f3e35f711d0>"
      ]
     },
     "execution_count": 54,
     "metadata": {
      "tags": []
     },
     "output_type": "execute_result"
    }
   ],
   "source": [
    "'''\n",
    "Deeper Model for MNIST\n",
    "'''\n",
    "deeper_modelMNIST = Sequential()\n",
    "\n",
    "# Convolution layer yang lebih dalam\n",
    "deeper_modelMNIST.add(Conv2D(32, (3, 3), activation='relu', kernel_initializer='he_uniform', input_shape=(28, 28, 1)))\n",
    "deeper_modelMNIST.add(MaxPooling2D((2, 2)))\n",
    "deeper_modelMNIST.add(Conv2D(64, (3, 3), activation='relu', kernel_initializer='he_uniform'))\n",
    "deeper_modelMNIST.add(MaxPooling2D((2, 2)))\n",
    "\n",
    "deeper_modelMNIST.add(Flatten())\n",
    "\n",
    "deeper_modelMNIST.add(Dense(100, activation='relu', kernel_initializer='he_uniform'))\n",
    "deeper_modelMNIST.add(Dense(10, activation='softmax'))\n",
    "\n",
    "opt = SGD(lr=0.01, momentum=0.9)\n",
    "\n",
    "deeper_modelMNIST.compile(optimizer=opt, loss='categorical_crossentropy', metrics=['accuracy'])\n",
    "\n",
    "deeper_modelMNIST.summary()\n",
    "\n",
    "deeper_modelMNIST.fit(feature_train, label_train, batch_size=32, validation_data=(feature_test, label_test), epochs=10)"
   ]
  },
  {
   "cell_type": "markdown",
   "metadata": {
    "id": "eiyH50_CYoba"
   },
   "source": [
    "### Kesimpulan\n",
    "Hasil dari deeper convolution belum tentu lebih baik dibandingkan dengan CNN. Contohnya pada dataset fashion_mnist, hasil akurasi yang diperoleh dengan menggunakan deeper convolution lebih rendah dibandingkan dengan penggunaan arsitektur CNN. Untuk dataset mnist, hasil deeper convolution lebih bagus jika dibandingkan dengan penggunaan arsitektur Multilayer Perceptron dan CNN. Nilai validation loss yang dihasilkan juga sangat kecil. Perbedaan ini kemungkinan disebabkan oleh kompleksitas dataset yang dimiliki. Kalau diperhaitkan, dataset fashion_mnist memang lebih kompleks dari dataset mnist."
   ]
  }
 ],
 "metadata": {
  "colab": {
   "collapsed_sections": [],
   "name": "Assignment14_Togi.ipynb",
   "provenance": [],
   "toc_visible": true
  },
  "kernelspec": {
   "display_name": "Python 3",
   "language": "python",
   "name": "python3"
  },
  "language_info": {
   "codemirror_mode": {
    "name": "ipython",
    "version": 3
   },
   "file_extension": ".py",
   "mimetype": "text/x-python",
   "name": "python",
   "nbconvert_exporter": "python",
   "pygments_lexer": "ipython3",
   "version": "3.8.5"
  }
 },
 "nbformat": 4,
 "nbformat_minor": 1
}
